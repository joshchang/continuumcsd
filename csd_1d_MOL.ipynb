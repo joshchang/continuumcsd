{
 "cells": [
  {
   "cell_type": "code",
   "execution_count": 1,
   "metadata": {
    "collapsed": false
   },
   "outputs": [
    {
     "name": "stdout",
     "output_type": "stream",
     "text": [
      "Populating the interactive namespace from numpy and matplotlib\n"
     ]
    }
   ],
   "source": [
    "%pylab inline\n",
    "from JSAnimation import IPython_display\n",
    "from matplotlib import animation\n",
    "from __future__ import print_function\n",
    "import time\n",
    "from channels import *\n",
    "from compartment import *\n",
    "from membrane import *\n",
    "from params import *\n",
    "from calciumdynamics import *\n",
    "from glutamate import *\n",
    "\n",
    "from csdmodel1d import *\n",
    "\n",
    "import numpy as np\n",
    "np.seterr(all='ignore')\n",
    "from scipy.integrate import ode"
   ]
  },
  {
   "cell_type": "code",
   "execution_count": 2,
   "metadata": {
    "collapsed": true
   },
   "outputs": [],
   "source": [
    "model = CSDModelInterval(N=31,dx=50e-6) # define the model, grid spacing is 100 microns, or approximately two cell widths\n",
    "\n",
    "# Define the compartments, and the membranes\n",
    "ecs = Compartment(\"ecs\")\n",
    "ecs.porosity_adjustment = False # @TODO!!!\n",
    "neuron = CellCompartment(\"neuron\",density = 2e5) # 2e5 neurons per meter, 4e10 per sq meter\n",
    "glia = CellCompartment(\"glia\",density = 2e5) #2e5 glia per meter\n",
    "\n",
    "neuronal_er = CellCompartment(\"neuron_er\",density = 2e5)\n",
    "glial_er = CellCompartment(\"glia_er\",density = 2e5)\n",
    "\n",
    "neuronal_mito = CellCompartment(\"neuron_mito\",density = 2e5)\n",
    "glial_mito = CellCompartment(\"glial_mito\",density = 2e5)\n",
    "\n",
    "neuron_mem = Membrane(\"neuronal\",inside=neuron,outside=ecs,Cm=Cn,phi_m=-70e-3)\n",
    "glial_mem = Membrane(\"glial\",inside=glia,outside=ecs,Cm=Cg,phi_m=-85e-3)\n",
    "\n",
    "neuronal_er_mem = Membrane(\"neuronal_er\",inside=neuronal_er,outside=neuron,Cm=Cn,phi_m=0.0)\n",
    "neuronal_er_mem = Membrane(\"glial_er\",inside=glial_er,outside=glia,Cm=Cn,phi_m=0.0)\n",
    "\n",
    "\n",
    "# Add the compartments to the model\n",
    "model.addCompartment(ecs,fraction=0.2) # ECS take 20% of the total volume\n",
    "model.addCompartment(neuron,fraction=0.4-0.04) # Neurons take up 40% of the total volume\n",
    "model.addCompartment(glia,fraction=0.4-0.04) # Neurons take up 40% of the total volume\n",
    "model.addCompartment(neuronal_er,fraction = 0.02)\n",
    "model.addCompartment(glial_er,fraction = 0.02)\n",
    "model.addCompartment(neuronal_mito,fraction = 0.02)\n",
    "model.addCompartment(glial_mito,fraction = 0.02)\n",
    "\n",
    "# Add ion species\n",
    "ecs.addSpecies(K,Ke0,name='K_e')\n",
    "ecs.addSpecies(Cl,Cle0,name='Cl_e')\n",
    "ecs.addSpecies(Na,Nae0,name='Na_e')\n",
    "ecs.addSpecies(Ca,Cae0,name='Ca_e')\n",
    "ecs.addSpecies(Glu,ge0,name = \"g_e\") # 4 micromolar in ecs\n",
    "\n",
    "neuron.addSpecies(K,Ki0,0,'K_n')\n",
    "neuron.addSpecies(Na,Nai0,0,'Na_n')\n",
    "neuron.addSpecies(Cl,Cli0,0,'Cl_n')\n",
    "neuron.addSpecies(Ca,Cai0,0,'Ca_n')\n",
    "neuron.addSpecies(Glu,Glun0,name = \"g_n\")\n",
    "\n",
    "neuron_CaM = CaMbuffer(\"CaM_n\",neuron,1e-5)\n",
    "neuron.addReaction(neuron_CaM) # Have capacity to buffer .01 mM Ca\n",
    "\n",
    "glia.addSpecies(K,Kg0,name='K_g')\n",
    "glia.addSpecies(Na,Nag0,name='Na_g')\n",
    "glia.addSpecies(Cl,Clg0,name='Cl_g')\n",
    "glia.addSpecies(Ca,Cag0,0,'Ca_g')\n",
    "\n",
    "glial_CaM = CaMbuffer(\"CaM_n\",glia,1e-5)\n",
    "glia.addReaction(glial_CaM) # Have capacity to buffer .01 mM Ca\n",
    "\n",
    "# add channels\n",
    "neuron_mem.addChannel(NaTChannel(quasi_steady=True),1000.) # 10000 per neuron?\n",
    "neuron_mem.addChannel(NaPChannel(quasi_steady=True),100.) # 100 per neuron\n",
    "neuron_mem.addChannel(KDRChannel(),10000.) # number of channels per neuron\n",
    "neuron_mem.addChannel(KAChannel(quasi_steady=True),10000.) # number of channels per neuron\n",
    "neuron_mem.addChannel(SKChannel(),1000.) # SK\n",
    "neuron_mem.addChannel(CaPChannel(),10000.) # number of channels per neuron\n",
    "neuron_mem.addChannel(CaLChannel(),10000.) # number of channels per neuron\n",
    "neuron_mem.addChannel(CaNChannel(quasi_steady=True),10000.) # number of channels per neuron\n",
    "neuron_mem.addChannel(gNMDAChannel(),10000.)\n",
    "\n",
    "neuron_mem.addChannel(PMCAPump(),50000) # PMCA pump\n",
    "neuron_mem.addChannel(NaCaExchangePump(),50000) # sodium-calcium exchanger\n",
    "neuron_mem.addChannel(NaKATPasePump(),5e5) # 5000 ATPase per neuron\n",
    "neuron_mem.addChannel(NonSpecificChlorideChannel(phi0),1e7)\n",
    "neuron_mem.addChannel(AquaPorin(),1e-6) # Add water exchange\n",
    "\n",
    "\n",
    "\n",
    "glial_mem.addChannel(KIRChannel(),50000) # KIR Channel\n",
    "glial_mem.addChannel(NaKATPasePump(),2e5) # 10000000 ATPase per glia\n",
    "glial_mem.addChannel(KDRglialChannel(),175000)\n",
    "glial_mem.addChannel(PMCAPump(),10000)\n",
    "glial_mem.addChannel(NaCaExchangePump(),1000) # sodium-calcium exchanger\n",
    "glial_mem.addChannel(NonSpecificChlorideChannel(phig0),1e7)\n",
    "glial_mem.addChannel(AquaPorin(),1e-6) # Add water exchange\n",
    "\n",
    "glial_mem.addChannel(CaPChannel(),10000.) # number of channels per neuron\n",
    "glial_mem.addChannel(CaLChannel(),10000.) # number of channels per neuron\n",
    "#glial_mem.addChannel(CaNChannel(),10000.) # number of channels per neuron\n",
    "\n",
    "# add glutamate exocytosis\n",
    "glutamate_exo = GlutmateExocytosis(\"G_exo\", neuron_mem, 1000)\n",
    "neuron_mem.addReaction(glutamate_exo)"
   ]
  },
  {
   "cell_type": "code",
   "execution_count": 3,
   "metadata": {
    "collapsed": false
   },
   "outputs": [
    {
     "name": "stdout",
     "output_type": "stream",
     "text": [
      "Ion: K+, P_leak: 9.06E-09\n",
      "Ion: Na+, P_leak: 8.28E-11\n",
      "Adding a leak channel does nothing to balance Ca2+\n",
      "Ion: K+, P_leak: 1.32E-08\n",
      "Ion: Na+, P_leak: 1.03E-09\n",
      "Ion: Ca2+, P_leak: 6.97E-11\n"
     ]
    }
   ],
   "source": [
    "model.addMembrane(neuron_mem)\n",
    "model.addMembrane(glial_mem)\n",
    "\n",
    "#model.addReaction(glutamate_exo)\n",
    "\n",
    "neuron_mem.addLeakChannels()\n",
    "neuron.balanceWith(ecs)\n",
    "glial_mem.addLeakChannels()\n",
    "glia.balanceWith(ecs)\n",
    "\n",
    "model.assembleSystem()\n",
    "\n",
    "system_state = model.getInternalVars()"
   ]
  },
  {
   "cell_type": "code",
   "execution_count": 4,
   "metadata": {
    "collapsed": true
   },
   "outputs": [],
   "source": [
    "#Hole method for initiation - very slow!!\n",
    "neuron_hole = HoleChannel([K,Na,Cl],1.0)\n",
    "density = np.zeros(model.N)\n",
    "density[0] = 1\n",
    "neuron_mem.addChannel(neuron_hole,density)\n",
    "\n",
    "#glial_hole = HoleChannel([K,Na,Cl],1e-2)\n",
    "#glial_mem.addChannel(glial_hole,density)"
   ]
  },
  {
   "cell_type": "markdown",
   "metadata": {},
   "source": [
    "##Let's just turn off the pumps\n",
    "\n",
    "neuron_pump_index = np.where([type(channel) is NaKATPasePump for channel in neuron_mem.channels])\n",
    "\n",
    "neuron_mem.channeldensity[neuron_mem.channels[neuron_pump_index[0]]]*=np.ones(model.N)\n",
    "neuron_mem.channeldensity[neuron_mem.channels[neuron_pump_index[0]]][0]*=0.00\n",
    "\n",
    "glial_pump_index = np.where([type(channel) is NaKATPasePump for channel in glial_mem.channels])\n",
    "glial_mem.channeldensity[glial_mem.channels[glial_pump_index[0]]]*=np.ones(model.N)\n",
    "glial_mem.channeldensity[glial_mem.channels[glial_pump_index[0]]][0]*=0.00"
   ]
  },
  {
   "cell_type": "code",
   "execution_count": 5,
   "metadata": {
    "collapsed": true
   },
   "outputs": [],
   "source": [
    "y = model.getInternalVars()\n",
    "model.odesolver.set_initial_value(y,0)\n",
    "\n",
    "stim_duration = 3.0 # poke holes for 1 seconds\n",
    "t_old = -stim_duration\n",
    "model.odesolver.t = -stim_duration\n",
    "dt1 = -stim_duration # timescale separation\n",
    "t_old1 = -stim_duration\n",
    "system_states = []\n",
    "t = []\n",
    "meanflux = 0.0\n",
    "t.append(-stim_duration)\n",
    "start_time = time.time()"
   ]
  },
  {
   "cell_type": "code",
   "execution_count": null,
   "metadata": {
    "collapsed": true
   },
   "outputs": [],
   "source": [
    "print('{:<7} {:<10} {:<10} {:<10} {:<10} {:<10} {:<10} {:<10} {:<10}'.format('time', 'V_n','V_g', 'K_e', 'K_n','K_g','Cl_e','Ca_n','g_e') )\n",
    "print('{:<7.3f} {:<10.6f} {:<10.6f} {:<10.6f} {:<10.6f} {:<10.6f} {:<10.6f} {:10.6f} {:10.6f}'.format(model.odesolver.t, 1e3*neuron_mem.phi()[0], 1e3*glial_mem.phi()[0], 1e3*ecs.value(K)[0], 1e3*neuron.value(K)[0], 1e3*glia.value(K)[0], 1e3*ecs.value(Cl)[0], 1e3*neuron.value(Ca)[0], 1e3*ecs.value(Glu)[0]), end='\\r')\n",
    "\n",
    "try:\n",
    "    y = model.odesolver.integrate(model.odesolver.t+1e-6)\n",
    "    system_states.append(y)\n",
    "    t.append(model.odesolver.t)\n",
    "    while model.odesolver.successful() and model.odesolver.t < 0.0:\n",
    "        y = model.odesolver.integrate(model.odesolver.t+1e-3)\n",
    "        if sum(isnan(y))>0: break\n",
    "        print('{:<7.3f} {:<10.6f} {:<10.6f} {:<10.6f} {:<10.6f} {:<10.6f} {:<10.6f} {:<10.6f} {:10.6f}'.format(model.odesolver.t, 1e3*neuron_mem.phi(y)[0], 1e3*glial_mem.phi(y)[0], 1e3*ecs.value(K,y)[0], 1e3*neuron.value(K,y)[0], 1e3*glia.value(K,y)[0], 1e3*ecs.value(Cl,y)[0], 1e3*neuron.value(Ca,y)[0], 1e3*ecs.value(Glu,y)[0]), end='\\r')\n",
    "        system_states.append(y)\n",
    "        t.append(model.odesolver.t)\n",
    "        \n",
    "    #neuron_mem.removeChannel(neuron_hole)\n",
    "    #glial_mem.removeChannel(glial_hole)\n",
    "    model.odesolver.set_initial_value(y)\n",
    "    \n",
    "    while model.odesolver.successful() and model.odesolver.t < 120.0:  \n",
    "        y = model.odesolver.integrate(model.odesolver.t+1e-3)\n",
    "        if sum(isnan(y))>0: break\n",
    "        print('{:<7.3f} {:<10.6f} {:<10.6f} {:<10.6f} {:<10.6f} {:<10.6f} {:<10.6f} {:<10.6f} {:10.6f}'.format(model.odesolver.t, 1e3*neuron_mem.phi(y)[0], 1e3*glial_mem.phi(y)[0], 1e3*ecs.value(K,y)[0], 1e3*neuron.value(K,y)[0], 1e3*glia.value(K,y)[0], 1e3*ecs.value(Cl,y)[0], 1e3*neuron.value(Ca,y)[0], 1e3*ecs.value(Glu,y)[0]), end='\\r')\n",
    "        system_states.append(y)\n",
    "        t.append(model.odesolver.t)    \n",
    "except KeyboardInterrupt:\n",
    "    print('{:<7.3f} {:<10.6f} {:<10.6f} {:<10.6f} {:<10.6f} {:<10.6f} {:<10.6f} {:<10.6f} {:10.6f}'.format(model.odesolver.t, 1e3*neuron_mem.phi(y)[0], 1e3*glial_mem.phi(y)[0], 1e3*ecs.value(K,y)[0], 1e3*neuron.value(K,y)[0], 1e3*glia.value(K,y)[0], 1e3*ecs.value(Cl,y)[0], 1e3*neuron.value(Ca,y)[0], 1e3*ecs.value(Glu,y)[0]))\n",
    "   \n",
    "print('{:<7.3f} {:<10.6f} {:<10.6f} {:<10.6f} {:<10.6f} {:<10.6f} {:<10.6f} {:<10.6f} {:10.6f}'.format(model.odesolver.t, 1e3*neuron_mem.phi(y)[0], 1e3*glial_mem.phi(y)[0], 1e3*ecs.value(K,y)[0], 1e3*neuron.value(K,y)[0], 1e3*glia.value(K,y)[0], 1e3*ecs.value(Cl,y)[0],1e3*neuron.value(Ca,y)[0], 1e3*ecs.value(Glu,y)[0]), end='\\r')\n",
    "elapsed_time = time.time() - start_time\n",
    "print('{:<7.3f} {:<10.6f} {:<10.6f} {:<10.6f} {:<10.6f} {:<10.6f} {:<10.6f} {:<10.6f} {:10.6f}'.format(model.odesolver.t, 1e3*neuron_mem.phi(y)[0], 1e3*glial_mem.phi(y)[0], 1e3*ecs.value(K,y)[0], 1e3*neuron.value(K,y)[0], 1e3*glia.value(K,y)[0], 1e3*ecs.value(Cl,y)[0], 1e3*neuron.value(Ca,y)[0], 1e3*ecs.value(Glu,y)[0]))\n",
    "print(\"\\nElapsed time %.3f\" % (elapsed_time) )"
   ]
  },
  {
   "cell_type": "code",
   "execution_count": null,
   "metadata": {
    "collapsed": true
   },
   "outputs": [],
   "source": [
    "system_matrix=np.array(system_states)"
   ]
  },
  {
   "cell_type": "code",
   "execution_count": null,
   "metadata": {
    "collapsed": true
   },
   "outputs": [],
   "source": [
    "fig = plt.figure()\n",
    "ax = plt.axes(xlim=(0, model.N*model.dx*1e6), ylim=(0, 45))\n",
    "line, = ax.plot([], [], lw=2)\n",
    "tt0 = ax.text(120, 28, 'K_e (mM)')\n",
    "ttl = ax.text(120, 25, '')\n",
    "\n",
    "dt = 200\n",
    "frames = len(system_states)/dt\n",
    "\n",
    "def init():\n",
    "    line.set_data([], [])\n",
    "    ttl.set_text('t='+str(0.0))\n",
    "    return line,\n",
    "\n",
    "def animate(i):\n",
    "    line.set_data(model.x*1e6,ecs.value(K,system_states[i*dt])*1e3)\n",
    "    ttl.set_text('t='+str(t[i*dt]))\n",
    "    return line,\n",
    "\n",
    "animation.FuncAnimation(fig, animate, init_func=init,\n",
    "                        frames=frames, interval=100, blit=True)"
   ]
  },
  {
   "cell_type": "code",
   "execution_count": null,
   "metadata": {
    "collapsed": true
   },
   "outputs": [],
   "source": [
    "Ke=ecs.value_matrix(K,system_matrix)"
   ]
  },
  {
   "cell_type": "code",
   "execution_count": null,
   "metadata": {
    "collapsed": true
   },
   "outputs": [],
   "source": [
    "fig = plt.figure()\n",
    "#ax = fig.axes(xlim=(t[0], t[-1]), ylim=(0, 45))\n",
    "plt.plot(t[1:],Ke[:,:]*1e3)"
   ]
  },
  {
   "cell_type": "code",
   "execution_count": null,
   "metadata": {
    "collapsed": true
   },
   "outputs": [],
   "source": []
  },
  {
   "cell_type": "code",
   "execution_count": null,
   "metadata": {
    "collapsed": true
   },
   "outputs": [],
   "source": [
    "fig = plt.figure()\n",
    "ax = plt.axes(xlim=(0, model.N*model.dx*1e6), ylim=(110, 140))\n",
    "line, = ax.plot([], [], lw=2)\n",
    "tt0 = ax.text(120, 28, 'K_g (mM)')\n",
    "ttl = ax.text(120, 25, '')\n",
    "\n",
    "dt = 200\n",
    "frames = len(system_states)/dt\n",
    "\n",
    "def init():\n",
    "    line.set_data([], [])\n",
    "    ttl.set_text('t='+str(0.0))\n",
    "    return line,\n",
    "\n",
    "def animate(i):\n",
    "    line.set_data(model.x*1e6,glia.value(K,system_states[i*dt])*1e3)\n",
    "    ttl.set_text('t='+str(t[i*dt]))\n",
    "    return line,\n",
    "\n",
    "animation.FuncAnimation(fig, animate, init_func=init,\n",
    "                        frames=frames, interval=100, blit=True)"
   ]
  },
  {
   "cell_type": "code",
   "execution_count": null,
   "metadata": {
    "collapsed": true
   },
   "outputs": [],
   "source": [
    "fig = plt.figure()\n",
    "ax = plt.axes(xlim=(0, model.N*model.dx*1e6), ylim=(0,2e-3))\n",
    "line, = ax.plot([], [], lw=2)\n",
    "ttl = ax.text(120, .025, '')\n",
    "\n",
    "dt = 200\n",
    "frames = len(system_states)/dt\n",
    "\n",
    "def init():\n",
    "    line.set_data([], [])\n",
    "    ttl.set_text('t='+str(0.0))\n",
    "    return line,\n",
    "\n",
    "def animate(i):\n",
    "    line.set_data(model.x*1e6,1e3*neuron.value(Ca,system_states[i*dt]))\n",
    "    ttl.set_text('t='+str(t[i*dt]))\n",
    "    return line,\n",
    "\n",
    "animation.FuncAnimation(fig, animate, init_func=init,\n",
    "                        frames=frames, interval=100, blit=True)"
   ]
  },
  {
   "cell_type": "code",
   "execution_count": null,
   "metadata": {
    "collapsed": true
   },
   "outputs": [],
   "source": [
    "fig = plt.figure()\n",
    "ax = plt.axes(xlim=(0, model.N*model.dx*1e6), ylim=(0,2e-3))\n",
    "line, = ax.plot([], [], lw=2)\n",
    "ttl = ax.text(120, .025, '')\n",
    "\n",
    "dt = 200\n",
    "frames = len(system_states)/dt\n",
    "\n",
    "def init():\n",
    "    line.set_data([], [])\n",
    "    ttl.set_text('t='+str(0.0))\n",
    "    return line,\n",
    "\n",
    "def animate(i):\n",
    "    line.set_data(model.x*1e6,1e3*glia.value(Ca,system_states[i*dt]))\n",
    "    ttl.set_text('t='+str(t[i*dt]))\n",
    "    return line,\n",
    "\n",
    "animation.FuncAnimation(fig, animate, init_func=init,\n",
    "                        frames=frames, interval=100, blit=True)"
   ]
  },
  {
   "cell_type": "code",
   "execution_count": null,
   "metadata": {
    "collapsed": true
   },
   "outputs": [],
   "source": [
    "fig = plt.figure()\n",
    "ax = plt.axes(xlim=(0, model.N*model.dx*1e6), ylim=(-75,30))\n",
    "line, = ax.plot([], [], lw=2)\n",
    "tt0 = ax.text(120,20, 'V_n (mV)')\n",
    "ttl = ax.text(120, .025, '')\n",
    "\n",
    "dt = 50\n",
    "frames = len(system_states)/dt\n",
    "\n",
    "def init():\n",
    "    line.set_data([], [])\n",
    "    ttl.set_text('t='+str(0.0))\n",
    "    return line,\n",
    "\n",
    "def animate(i):\n",
    "    line.set_data(model.x*1e6,1e3*neuron_mem.phi(system_states[i*dt]))\n",
    "    ttl.set_text('t='+str(t[i*dt]))\n",
    "    return line,\n",
    "\n",
    "animation.FuncAnimation(fig, animate, init_func=init,\n",
    "                        frames=frames, interval=100, blit=True)"
   ]
  },
  {
   "cell_type": "code",
   "execution_count": null,
   "metadata": {
    "collapsed": true
   },
   "outputs": [],
   "source": [
    "fig = plt.figure()\n",
    "ax = plt.axes(xlim=(0, model.N*model.dx*1e6), ylim=(-85,30))\n",
    "line, = ax.plot([], [], lw=2)\n",
    "tt0 = ax.text(120,20, 'V_g (mV)')\n",
    "ttl = ax.text(120, .025, '')\n",
    "\n",
    "dt = 50\n",
    "frames = len(system_states)/dt\n",
    "\n",
    "def init():\n",
    "    line.set_data([], [])\n",
    "    ttl.set_text('t='+str(0.0))\n",
    "    return line,\n",
    "\n",
    "def animate(i):\n",
    "    line.set_data(model.x*1e6,1e3*glial_mem.phi(system_states[i*dt]))\n",
    "    ttl.set_text('t='+str(t[i*dt]))\n",
    "    return line,\n",
    "\n",
    "animation.FuncAnimation(fig, animate, init_func=init,\n",
    "                        frames=frames, interval=100, blit=True)"
   ]
  },
  {
   "cell_type": "code",
   "execution_count": null,
   "metadata": {
    "collapsed": true
   },
   "outputs": [],
   "source": [
    "fig = plt.figure()\n",
    "ax = plt.axes(xlim=(0, model.N*model.dx*1e6), ylim=(0,0.95))\n",
    "line, = ax.plot([], [], lw=2)\n",
    "tt0 = ax.text(120,0.8, 'v_ecs')\n",
    "ttl = ax.text(120, .65, '')\n",
    "\n",
    "dt = 50\n",
    "frames = len(system_states)/dt\n",
    "\n",
    "def init():\n",
    "    line.set_data([], [])\n",
    "    ttl.set_text('t='+str(0.0))\n",
    "    return line,\n",
    "\n",
    "def animate(i):\n",
    "    vfracs = model.volumefractions(system_states[i*dt])\n",
    "    line.set_data(model.x*1e6,vfracs[ecs])\n",
    "    ttl.set_text('t='+str(t[i*dt]))\n",
    "    return line,\n",
    "\n",
    "animation.FuncAnimation(fig, animate, init_func=init,\n",
    "                        frames=frames, interval=100, blit=True)"
   ]
  },
  {
   "cell_type": "code",
   "execution_count": null,
   "metadata": {
    "collapsed": true
   },
   "outputs": [],
   "source": [
    "fig = plt.figure()\n",
    "ax = plt.axes(xlim=(0, model.N*model.dx*1e6), ylim=(0.05,0.95))\n",
    "line, = ax.plot([], [], lw=2)\n",
    "tt0 = ax.text(120,0.8, 'v_n')\n",
    "ttl = ax.text(120, .55, '')\n",
    "\n",
    "dt = 50\n",
    "frames = len(system_states)/dt\n",
    "\n",
    "def init():\n",
    "    line.set_data([], [])\n",
    "    ttl.set_text('t='+str(0.0))\n",
    "    return line,\n",
    "\n",
    "def animate(i):\n",
    "    vfracs = model.volumefractions(system_states[i*dt])\n",
    "    line.set_data(model.x*1e6,vfracs[neuron])\n",
    "    ttl.set_text('t='+str(t[i*dt]))\n",
    "    return line,\n",
    "\n",
    "animation.FuncAnimation(fig, animate, init_func=init,\n",
    "                        frames=frames, interval=100, blit=True)"
   ]
  },
  {
   "cell_type": "code",
   "execution_count": null,
   "metadata": {
    "collapsed": true
   },
   "outputs": [],
   "source": [
    "fig = plt.figure()\n",
    "ax = plt.axes(xlim=(0, model.N*model.dx*1e6), ylim=(0.05,0.95))\n",
    "line, = ax.plot([], [], lw=2)\n",
    "\n",
    "tt0 = ax.text(120, .7, 'v_g')\n",
    "ttl = ax.text(120, .55, '')\n",
    "\n",
    "dt = 50\n",
    "frames = len(system_states)/dt\n",
    "\n",
    "def init():\n",
    "    line.set_data([], [])\n",
    "    ttl.set_text('t='+str(0.0))\n",
    "    return line,\n",
    "\n",
    "def animate(i):\n",
    "    vfracs = model.volumefractions(system_states[i*dt])\n",
    "    line.set_data(model.x*1e6,vfracs[glia])\n",
    "    ttl.set_text('t='+str(t[i*dt]))\n",
    "    return line,\n",
    "\n",
    "animation.FuncAnimation(fig, animate, init_func=init,\n",
    "                        frames=frames, interval=100, blit=True)"
   ]
  },
  {
   "cell_type": "code",
   "execution_count": null,
   "metadata": {
    "collapsed": true
   },
   "outputs": [],
   "source": [
    "fig = plt.figure()\n",
    "ax = plt.axes(xlim=(0, model.N*model.dx*1e6), ylim=(-0.05,.05))\n",
    "line, = ax.plot([], [], lw=2)\n",
    "\n",
    "tt0 = ax.text(120, .7, 'charge difference')\n",
    "ttl = ax.text(120, .55, '')\n",
    "\n",
    "dt = 50\n",
    "frames = len(system_states)/dt\n",
    "\n",
    "def init():\n",
    "    line.set_data([], [])\n",
    "    ttl.set_text('t='+str(0.0))\n",
    "    return line,\n",
    "\n",
    "def animate(i):\n",
    "    line.set_data(model.x*1e6,ecs.charge(system_states[i*dt])-neuron.charge(system_states[i*dt]))\n",
    "    ttl.set_text('t='+str(t[i*dt]))\n",
    "    return line,\n",
    "\n",
    "animation.FuncAnimation(fig, animate, init_func=init,\n",
    "                        frames=frames, interval=100, blit=True)"
   ]
  },
  {
   "cell_type": "code",
   "execution_count": null,
   "metadata": {
    "collapsed": true
   },
   "outputs": [],
   "source": [
    "fig = plt.figure()\n",
    "ax = plt.axes(xlim=(0, model.N * model.dx * 1e6), ylim=(-4e-3, 4e-3))\n",
    "line, = ax.plot([], [], lw=2)\n",
    "\n",
    "tt0 = ax.text(120, .004, 'ECS charge')\n",
    "ttl = ax.text(120, .003, '')\n",
    "\n",
    "dt = 200\n",
    "frames = len(system_states) / dt\n",
    "\n",
    "\n",
    "def init():\n",
    "    line.set_data([], [])\n",
    "    ttl.set_text('t=' + str(0.0))\n",
    "    return line,\n",
    "\n",
    "\n",
    "def animate(i):\n",
    "    line.set_data(model.x * 1e6, ecs.charge(system_states[i*dt]))\n",
    "    ttl.set_text('t=' + str(t[i * dt]))\n",
    "    return line,\n",
    "\n",
    "\n",
    "animation.FuncAnimation(fig, animate, init_func=init,\n",
    "                        frames=frames, interval=100, blit=True)\n",
    "\n",
    "vg_animation = animation.FuncAnimation(fig, animate, init_func=init,\n",
    "                                       frames=frames, interval=100, blit=True)\n",
    "vg_animation.save(prefix + \"charge_ecs.gif\", writer=writer)"
   ]
  },
  {
   "cell_type": "code",
   "execution_count": null,
   "metadata": {
    "collapsed": true
   },
   "outputs": [],
   "source": [
    "Writer = animation.writers['imagemagick']\n",
    "writer = Writer(fps=30, metadata=dict(artist='Josh Chang'))"
   ]
  },
  {
   "cell_type": "code",
   "execution_count": null,
   "metadata": {
    "collapsed": true
   },
   "outputs": [],
   "source": [
    "animation.writers['imagemagick']"
   ]
  },
  {
   "cell_type": "code",
   "execution_count": null,
   "metadata": {
    "collapsed": true
   },
   "outputs": [],
   "source": []
  }
 ],
 "metadata": {
  "kernelspec": {
   "display_name": "Python 2",
   "language": "python",
   "name": "python2"
  },
  "language_info": {
   "codemirror_mode": {
    "name": "ipython",
    "version": 2
   },
   "file_extension": ".py",
   "mimetype": "text/x-python",
   "name": "python",
   "nbconvert_exporter": "python",
   "pygments_lexer": "ipython2",
   "version": "2.7.6"
  }
 },
 "nbformat": 4,
 "nbformat_minor": 0
}
