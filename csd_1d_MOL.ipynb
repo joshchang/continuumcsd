{
 "cells": [
  {
   "cell_type": "code",
   "execution_count": 1,
   "metadata": {
    "collapsed": false
   },
   "outputs": [
    {
     "name": "stdout",
     "output_type": "stream",
     "text": [
      "Populating the interactive namespace from numpy and matplotlib\n"
     ]
    }
   ],
   "source": [
    "%pylab inline\n",
    "from JSAnimation import IPython_display\n",
    "from matplotlib import animation\n",
    "from __future__ import print_function\n",
    "import time\n",
    "from channels import *\n",
    "from compartment import *\n",
    "from membrane import *\n",
    "from params import *\n",
    "\n",
    "from csdmodel1d import *\n",
    "\n",
    "import numpy as np\n",
    "np.seterr(all='ignore')\n",
    "from scipy.integrate import ode"
   ]
  },
  {
   "cell_type": "code",
   "execution_count": 2,
   "metadata": {
    "collapsed": false
   },
   "outputs": [],
   "source": [
    "model = CSDModelInterval(N=10,dx=50e-6) # define the model, grid spacing is 100 microns, or approximately two cell widths\n",
    "\n",
    "# Define the compartments, and the membranes\n",
    "ecs = Compartment(\"ecs\")\n",
    "neuron = CellCompartment(\"neuron\",density = 2e5) # 2e5 neurons per meter, 4e10 per sq meter\n",
    "glia = CellCompartment(\"glia\",density = 2e5) #2e5 glia per meter\n",
    "\n",
    "neuronal_er = CellCompartment(\"neuron_er\",density = 2e5)\n",
    "glial_er = CellCompartment(\"glia_er\",density = 2e5)\n",
    "\n",
    "neuronal_mito = CellCompartment(\"neuron_mito\",density = 2e5)\n",
    "glial_mito = CellCompartment(\"glial_mito\",density = 2e5)\n",
    "\n",
    "neuron_mem = Membrane(\"neuronal\",inside=neuron,outside=ecs,Cm=Cn,phi_m=-70e-3)\n",
    "glial_mem = Membrane(\"glial\",inside=glia,outside=ecs,Cm=Cg,phi_m=-85e-3)\n",
    "\n",
    "neuronal_er_mem = Membrane(\"neuronal_er\",inside=neuronal_er,outside=neuron,Cm=Cn,phi_m=0.0)\n",
    "neuronal_er_mem = Membrane(\"glial_er\",inside=glial_er,outside=glia,Cm=Cn,phi_m=0.0)\n",
    "\n",
    "\n",
    "# Add the compartments to the model\n",
    "model.addCompartment(ecs,fraction=0.2) # ECS take 20% of the total volume\n",
    "model.addCompartment(neuron,fraction=0.4-0.04) # Neurons take up 40% of the total volume\n",
    "model.addCompartment(glia,fraction=0.4-0.04) # Neurons take up 40% of the total volume\n",
    "model.addCompartment(neuronal_er,fraction = 0.02)\n",
    "model.addCompartment(glial_er,fraction = 0.02)\n",
    "model.addCompartment(neuronal_mito,fraction = 0.02)\n",
    "model.addCompartment(glial_mito,fraction = 0.02)\n",
    "\n",
    "# Add ion species\n",
    "ecs.addSpecies(K,Ke0,name='K_e')\n",
    "ecs.addSpecies(Cl,Cle0,name='Cl_e')\n",
    "ecs.addSpecies(Na,Nae0,name='Na_e')\n",
    "ecs.addSpecies(Ca,Cae0,name='Ca_e')\n",
    "ecs.addSpecies(Glu,ge0,name = \"g_e\") # 4 micromolar in ecs\n",
    "\n",
    "neuron.addSpecies(K,Ki0,0,'K_n')\n",
    "neuron.addSpecies(Na,Nai0,0,'Na_n')\n",
    "neuron.addSpecies(Cl,Cli0,0,'Cl_n')\n",
    "neuron.addSpecies(Ca,Cai0,0,'Ca_n')\n",
    "neuron.addSpecies(Glu,1e-6,name = \"g_n\")\n",
    "\n",
    "\n",
    "glia.addSpecies(K,Ki0,name='K_g')\n",
    "glia.addSpecies(Na,Nai0,name='Na_g')\n",
    "glia.addSpecies(Cl,Cli0,name='Cl_g')\n",
    "glia.addSpecies(Ca,Cai0,0,'Ca_g')\n",
    "\n",
    "# add channels\n",
    "neuron_mem.addChannel(NaTChannel(),10000.) # 10000 per neuron?\n",
    "neuron_mem.addChannel(NaPChannel(),100.) # 100 per neuron\n",
    "neuron_mem.addChannel(KDRChannel(),10000.) # number of channels per neuron\n",
    "neuron_mem.addChannel(KAChannel(),10000.) # number of channels per neuron\n",
    "#neuron_mem.addChannel(CaPChannel(),10000.) # number of channels per neuron\n",
    "#neuron_mem.addChannel(CaLChannel(),10000.) # number of channels per neuron\n",
    "#neuron_mem.addChannel(CaNChannel(),10000.) # number of channels per neuron\n",
    "\n",
    "#neuron_mem.addChannel(KIRChannel(),10000.)\n",
    "#neuron_mem.addChannel(gNMDAChannel(),10000.)\n",
    "\n",
    "#neuron_mem.addChannel(PMCAPump(),10000) # PMCA pump\n",
    "#neuron_mem.addChannel(NaCaExchangePump(),1000) # sodium-calcium exchanger\n",
    "neuron_mem.addChannel(NaKATPasePump(),10000) # 5000 ATPase per neuron\n",
    "neuron_mem.addChannel(NonSpecificChlorideChannel(-0.07),100000)\n",
    "neuron_mem.addChannel(AquaPorin(),1e-1) # Add water exchange\n",
    "\n",
    "glial_mem.addChannel(KIRChannel(),50000) # KIR Channel\n",
    "glial_mem.addChannel(NaKATPasePump(),50000) # 10000000 ATPase per glia\n",
    "#glial_mem.addChannel(PMCAPump(),10000)\n",
    "glial_mem.addChannel(NonSpecificChlorideChannel(-0.085),100000)\n",
    "glial_mem.addChannel(AquaPorin(),1e-5) # Add water exchange\n",
    "\n",
    "#glial_mem.addChannel(CaPChannel(),10000.) # number of channels per neuron\n",
    "#glial_mem.addChannel(CaLChannel(),10000.) # number of channels per neuron\n",
    "#glial_mem.addChannel(CaNChannel(),10000.) # number of channels per neuron\n"
   ]
  },
  {
   "cell_type": "code",
   "execution_count": 3,
   "metadata": {
    "collapsed": false
   },
   "outputs": [
    {
     "name": "stdout",
     "output_type": "stream",
     "text": [
      "Ion: Na+, P_leak: 1.37E-10\n",
      "Ion: K+, P_leak: 1.47E-09\n",
      "Ion: Na+, P_leak: 5.82E-10\n",
      "Ion: K+, P_leak: 2.66E-08\n",
      "Adding a leak channel does nothing to balance Cl-\n"
     ]
    }
   ],
   "source": [
    "model.addMembrane(neuron_mem)\n",
    "model.addMembrane(glial_mem)\n",
    "\n",
    "neuron_mem.addLeakChannels()\n",
    "neuron.balanceWith(ecs)\n",
    "glial_mem.addLeakChannels()\n",
    "glia.balanceWith(ecs)\n",
    "\n",
    "model.assembleSystem()\n",
    "\n",
    "system_state = model.getInternalVars()"
   ]
  },
  {
   "cell_type": "code",
   "execution_count": 4,
   "metadata": {
    "collapsed": false
   },
   "outputs": [],
   "source": [
    "'''\n",
    "#Hole method for initiation - very slow!!\n",
    "neuron_hole = HoleChannel([K,Na,Cl],1e-6)\n",
    "density = np.zeros(model.N)\n",
    "density[0:3] = 10\n",
    "neuron_mem.addChannel(neuron_hole,density)\n",
    "\n",
    "glial_hole = HoleChannel([K,Na,Cl],1e-6)\n",
    "glial_mem.addChannel(glial_hole,density)\n",
    "'''\n",
    "\n",
    "ecs.values[K][0] += 0.020\n",
    "ecs.values[Cl][0] += 0.020\n",
    "\n",
    "y = model.getInternalVars()\n",
    "model.odesolver.set_initial_value(y,0)\n",
    "\n",
    "t_old = 0\n",
    "model.odesolver.t = 0\n",
    "dt1 = 0 # timescale separation\n",
    "t_old1 = 0\n",
    "system_states = []\n",
    "t = []\n",
    "meanflux = 0.0\n",
    "t.append(0)\n",
    "start_time = time.time()"
   ]
  },
  {
   "cell_type": "code",
   "execution_count": null,
   "metadata": {
    "collapsed": false,
    "scrolled": false
   },
   "outputs": [
    {
     "name": "stdout",
     "output_type": "stream",
     "text": [
      "time     V_n         V_g         K_e         K_n         K_g         Cl_e        Ca_n       \n",
      "0.008    -37.2434173 -48.5615036 23.3696481  133.5000902 133.5028484 165.3704759 0.0000010  "
     ]
    }
   ],
   "source": [
    "print('{:<8} {:<11} {:<11} {:<11} {:<11} {:<11} {:<11} {:<11}'.format('time', 'V_n','V_g', 'K_e', 'K_n','K_g','Cl_e','Ca_n') )\n",
    "print('{:<8.3f} {:<11.7f} {:<11.7f} {:<11.7f} {:<11.7f} {:<11.7f} {:<11.7f} {:<11.7f}'.format(model.odesolver.t, 1e3*neuron_mem.phi()[0], 1e3*glial_mem.phi()[0], 1e3*ecs.value(K)[0], 1e3*neuron.value(K)[0], 1e3*glia.value(K)[0], 1e3*ecs.value(Cl)[0], 1e3*neuron.value(Ca)[0]), end='\\r')\n",
    "\n",
    "try:\n",
    "    y = model.odesolver.integrate(model.odesolver.t+1e-6)\n",
    "    system_states.append(y)\n",
    "    t.append(model.odesolver.t)\n",
    "    while model.odesolver.successful() and model.odesolver.t < 240.0:\n",
    "        y = model.odesolver.integrate(model.odesolver.t+1e-3)\n",
    "        if sum(isnan(y))>0: break\n",
    "        print('{:<8.3f} {:<11.7f} {:<11.7f} {:<11.7f} {:<11.7f} {:<11.7f} {:<11.7f} {:<11.7f}'.format(model.odesolver.t, 1e3*neuron_mem.phi(y)[0], 1e3*glial_mem.phi(y)[0], 1e3*ecs.value(K,y)[0], 1e3*neuron.value(K,y)[0], 1e3*glia.value(K,y)[0], 1e3*ecs.value(Cl,y)[0], 1e3*neuron.value(Ca,y)[0]), end='\\r')\n",
    "        system_states.append(y)\n",
    "        t.append(model.odesolver.t)\n",
    "except KeyboardInterrupt:\n",
    "    print('{:<8.3f} {:<11.7f} {:<11.7f} {:<11.7f} {:<11.7f} {:<11.7f} {:<11.7f} {:<11.7f}'.format(model.odesolver.t, 1e3*neuron_mem.phi(y)[0], 1e3*glial_mem.phi(y)[0], 1e3*ecs.value(K,y)[0], 1e3*neuron.value(K,y)[0], 1e3*glia.value(K,y)[0], 1e3*ecs.value(Cl,y)[0], 1e3*neuron.value(Ca,y)[0]))\n",
    "   \n",
    "print('{:<8.3f} {:<11.7f} {:<11.7f} {:<11.7f} {:<11.7f} {:<11.7f} {:<11.7f} {:<11.7f}'.format(model.odesolver.t, 1e3*neuron_mem.phi(y)[0], 1e3*glial_mem.phi(y)[0], 1e3*ecs.value(K,y)[0], 1e3*neuron.value(K,y)[0], 1e3*glia.value(K,y)[0], 1e3*ecs.value(Cl,y)[0],1e3*neuron.value(Ca,y)[0]), end='\\r')\n",
    "elapsed_time = time.time() - start_time\n",
    "print('{:<8.3f} {:<11.7f} {:<11.7f} {:<11.7f} {:<11.7f} {:<11.7f} {:<11.7f} {:<11.7f}'.format(model.odesolver.t, 1e3*neuron_mem.phi(y)[0], 1e3*glial_mem.phi(y)[0], 1e3*ecs.value(K,y)[0], 1e3*neuron.value(K,y)[0], 1e3*glia.value(K,y)[0], 1e3*ecs.value(Cl,y)[0], 1e3*neuron.value(Ca,y)[0]))\n",
    "print(\"\\nElapsed time %.3f\" % (elapsed_time) )"
   ]
  },
  {
   "cell_type": "code",
   "execution_count": null,
   "metadata": {
    "collapsed": false
   },
   "outputs": [],
   "source": [
    "fig = plt.figure()\n",
    "ax = plt.axes(xlim=(0, model.N*model.dx*1e6), ylim=(3.5e-3, 30e-3))\n",
    "line, = ax.plot([], [], lw=2)\n",
    "ttl = ax.text(120, .025, '')\n",
    "\n",
    "dt = 50\n",
    "\n",
    "def init():\n",
    "    line.set_data([], [])\n",
    "    ttl.set_text('t='+str(0.0))\n",
    "    return line,\n",
    "\n",
    "def animate(i):\n",
    "    line.set_data(model.x*1e6,ecs.value(K,system_states[i*dt]))\n",
    "    ttl.set_text('t='+str(t[i*dt]))\n",
    "    return line,\n",
    "\n",
    "animation.FuncAnimation(fig, animate, init_func=init,\n",
    "                        frames=1000, interval=100, blit=True)"
   ]
  },
  {
   "cell_type": "code",
   "execution_count": null,
   "metadata": {
    "collapsed": false
   },
   "outputs": [],
   "source": [
    "fig = plt.figure()\n",
    "ax = plt.axes(xlim=(0, 500), ylim=(133.4e-3, 133.6e-3))\n",
    "line, = ax.plot([], [], lw=2)\n",
    "\n",
    "def init():\n",
    "    line.set_data([], [])\n",
    "    return line,\n",
    "\n",
    "def animate(i):\n",
    "    line.set_data(model.x*1e6,neuron.value(K,system_states[i]))\n",
    "    return line,\n",
    "\n",
    "animation.FuncAnimation(fig, animate, init_func=init,\n",
    "                        frames=200, interval=100, blit=True)"
   ]
  },
  {
   "cell_type": "code",
   "execution_count": null,
   "metadata": {
    "collapsed": false
   },
   "outputs": [],
   "source": [
    "fig = plt.figure()\n",
    "ax = plt.axes(xlim=(0, model.N*model.dx*1e6), ylim=(0,2e-3))\n",
    "line, = ax.plot([], [], lw=2)\n",
    "ttl = ax.text(120, .025, '')\n",
    "\n",
    "dt = 100\n",
    "\n",
    "def init():\n",
    "    line.set_data([], [])\n",
    "    ttl.set_text('t='+str(0.0))\n",
    "    return line,\n",
    "\n",
    "def animate(i):\n",
    "    line.set_data(model.x*1e6,1e3*neuron.value(Ca,system_states[i*dt]))\n",
    "    ttl.set_text('t='+str(t[i*dt]))\n",
    "    return line,\n",
    "\n",
    "animation.FuncAnimation(fig, animate, init_func=init,\n",
    "                        frames=1000, interval=100, blit=True)"
   ]
  },
  {
   "cell_type": "code",
   "execution_count": null,
   "metadata": {
    "collapsed": false
   },
   "outputs": [],
   "source": [
    "fig = plt.figure()\n",
    "ax = plt.axes(xlim=(0, model.N*model.dx*1e6), ylim=(0,2e-3))\n",
    "line, = ax.plot([], [], lw=2)\n",
    "ttl = ax.text(120, .025, '')\n",
    "\n",
    "dt = 100\n",
    "\n",
    "def init():\n",
    "    line.set_data([], [])\n",
    "    ttl.set_text('t='+str(0.0))\n",
    "    return line,\n",
    "\n",
    "def animate(i):\n",
    "    line.set_data(model.x*1e6,1e3*glia.value(Ca,system_states[i*dt]))\n",
    "    ttl.set_text('t='+str(t[i*dt]))\n",
    "    return line,\n",
    "\n",
    "animation.FuncAnimation(fig, animate, init_func=init,\n",
    "                        frames=1000, interval=100, blit=True)"
   ]
  },
  {
   "cell_type": "code",
   "execution_count": null,
   "metadata": {
    "collapsed": false
   },
   "outputs": [],
   "source": [
    "fig = plt.figure()\n",
    "ax = plt.axes(xlim=(0, model.N*model.dx*1e6), ylim=(-75,30))\n",
    "line, = ax.plot([], [], lw=2)\n",
    "ttl = ax.text(120, .025, '')\n",
    "\n",
    "dt = 100\n",
    "\n",
    "def init():\n",
    "    line.set_data([], [])\n",
    "    ttl.set_text('t='+str(0.0))\n",
    "    return line,\n",
    "\n",
    "def animate(i):\n",
    "    line.set_data(model.x*1e6,1e3*neuron_mem.phi(system_states[i*dt]))\n",
    "    ttl.set_text('t='+str(t[i*dt]))\n",
    "    return line,\n",
    "\n",
    "animation.FuncAnimation(fig, animate, init_func=init,\n",
    "                        frames=1000, interval=100, blit=True)"
   ]
  },
  {
   "cell_type": "code",
   "execution_count": null,
   "metadata": {
    "collapsed": false
   },
   "outputs": [],
   "source": [
    "fig = plt.figure()\n",
    "ax = plt.axes(xlim=(0, model.N*model.dx*1e6), ylim=(0.05,0.95))\n",
    "line, = ax.plot([], [], lw=2)\n",
    "ttl = ax.text(120, .055, '')\n",
    "\n",
    "dt = 100\n",
    "\n",
    "def init():\n",
    "    line.set_data([], [])\n",
    "    ttl.set_text('t='+str(0.0))\n",
    "    return line,\n",
    "\n",
    "def animate(i):\n",
    "    line.set_data(model.x*1e6,model.volumefraction(ecs,system_states[i*dt]))\n",
    "    ttl.set_text('t='+str(t[i*dt]))\n",
    "    return line,\n",
    "\n",
    "animation.FuncAnimation(fig, animate, init_func=init,\n",
    "                        frames=1000, interval=100, blit=True)"
   ]
  },
  {
   "cell_type": "code",
   "execution_count": null,
   "metadata": {
    "collapsed": false
   },
   "outputs": [],
   "source": [
    "neuron_mem.waterFlow(system_states[10])"
   ]
  },
  {
   "cell_type": "code",
   "execution_count": null,
   "metadata": {
    "collapsed": false
   },
   "outputs": [],
   "source": [
    "model.volumefraction(ecs,system_states[100])"
   ]
  },
  {
   "cell_type": "code",
   "execution_count": null,
   "metadata": {
    "collapsed": false
   },
   "outputs": [],
   "source": [
    "model.volumefractions(system_states[100])"
   ]
  },
  {
   "cell_type": "code",
   "execution_count": null,
   "metadata": {
    "collapsed": true
   },
   "outputs": [],
   "source": []
  },
  {
   "cell_type": "code",
   "execution_count": null,
   "metadata": {
    "collapsed": true
   },
   "outputs": [],
   "source": []
  }
 ],
 "metadata": {
  "kernelspec": {
   "display_name": "Python 2",
   "language": "python",
   "name": "python2"
  },
  "language_info": {
   "codemirror_mode": {
    "name": "ipython",
    "version": 2
   },
   "file_extension": ".py",
   "mimetype": "text/x-python",
   "name": "python",
   "nbconvert_exporter": "python",
   "pygments_lexer": "ipython2",
   "version": "2.7.6"
  }
 },
 "nbformat": 4,
 "nbformat_minor": 0
}
