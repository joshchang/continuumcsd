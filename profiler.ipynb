{
 "cells": [
  {
   "cell_type": "code",
   "execution_count": 1,
   "metadata": {
    "collapsed": false
   },
   "outputs": [
    {
     "name": "stdout",
     "output_type": "stream",
     "text": [
      "Populating the interactive namespace from numpy and matplotlib\n"
     ]
    }
   ],
   "source": [
    "%load_ext line_profiler\n",
    "%pylab inline\n",
    "from pycallgraph import PyCallGraph\n",
    "from pycallgraph.output import GraphvizOutput\n",
    "\n",
    "from __future__ import print_function\n",
    "import cProfile\n",
    "\n",
    "from JSAnimation import IPython_display\n",
    "from matplotlib import animation\n",
    "import time\n",
    "import math\n",
    "\n",
    "from species import *\n",
    "from channels import *\n",
    "from compartment import *\n",
    "from membrane import *\n",
    "from params import *\n",
    "\n",
    "from csdmodel1d import *\n",
    "\n",
    "import numpy as np\n",
    "np.seterr(over ='warn',under='ignore')\n",
    "import scipy as sp\n",
    "from scipy.integrate import ode\n",
    "\n",
    "#from dolfin import *  # FEM library\n",
    "from ProgressBar import *\n",
    "\n",
    "import logging\n",
    "logging.getLogger(\"FFC\").setLevel(logging.ERROR)"
   ]
  },
  {
   "cell_type": "code",
   "execution_count": 2,
   "metadata": {
    "collapsed": false,
    "scrolled": false
   },
   "outputs": [],
   "source": [
    "model = CSDModelInterval(N=32,dx=50e-6) # define the model, grid spacing is 100 microns, or approximately two cell widths\n",
    "\n",
    "# Define the compartments, and the membranes\n",
    "ecs = Compartment(\"ecs\")\n",
    "neuron = CellCompartment(\"neuron\",density = 2e5) # 2e5 neurons per meter, 4e10 per sq meter\n",
    "glia = CellCompartment(\"glia\",density = 2e5) #2e5 glia per meter\n",
    "\n",
    "neuronal_er = CellCompartment(\"neuron_er\",density = 2e5)\n",
    "glial_er = CellCompartment(\"glia_er\",density = 2e5)\n",
    "\n",
    "neuronal_mito = CellCompartment(\"neuron_mito\",density = 2e5)\n",
    "glial_mito = CellCompartment(\"glial_mito\",density = 2e5)\n",
    "\n",
    "neuron_mem = Membrane(\"neuronal\",inside=neuron,outside=ecs,Cm=Cn,phi_m=-70e-3)\n",
    "glial_mem = Membrane(\"glial\",inside=glia,outside=ecs,Cm=Cg,phi_m=-85e-3)\n",
    "\n",
    "neuronal_er_mem = Membrane(\"neuronal_er\",inside=neuronal_er,outside=neuron,Cm=Cn,phi_m=0.0)\n",
    "neuronal_er_mem = Membrane(\"glial_er\",inside=glial_er,outside=glia,Cm=Cn,phi_m=0.0)\n",
    "\n",
    "\n",
    "# Add the compartments to the model\n",
    "model.addCompartment(ecs,fraction=0.2) # ECS take 20% of the total volume\n",
    "model.addCompartment(neuron,fraction=0.4-0.04) # Neurons take up 40% of the total volume\n",
    "model.addCompartment(glia,fraction=0.4-0.04) # Neurons take up 40% of the total volume\n",
    "model.addCompartment(neuronal_er,fraction = 0.02)\n",
    "model.addCompartment(glial_er,fraction = 0.02)\n",
    "model.addCompartment(neuronal_mito,fraction = 0.02)\n",
    "model.addCompartment(glial_mito,fraction = 0.02)\n",
    "\n",
    "# Add ion species\n",
    "ecs.addSpecies(K,Ke0,name='K_e')\n",
    "ecs.addSpecies(Cl,Cle0,name='Cl_e')\n",
    "ecs.addSpecies(Na,Nae0,name='Na_e')\n",
    "ecs.addSpecies(Ca,Cae0,name='Ca_e')\n",
    "ecs.addSpecies(Glu,ge0,name = \"g_e\") # 4 micromolar in ecs\n",
    "\n",
    "neuron.addSpecies(K,Ki0,0,'K_n')\n",
    "neuron.addSpecies(Na,Nai0,0,'Na_n')\n",
    "neuron.addSpecies(Cl,Cli0,0,'Cl_n')\n",
    "neuron.addSpecies(Ca,Cai0,0,'Ca_n')\n",
    "neuron.addSpecies(Glu,1e-6,name = \"g_n\")\n",
    "\n",
    "glia.addSpecies(K,Kg0,name='K_g')\n",
    "glia.addSpecies(Na,Nag0,name='Na_g')\n",
    "glia.addSpecies(Cl,Clg0,name='Cl_g')\n",
    "glia.addSpecies(Ca,Cag0,0,'Ca_g')\n",
    "\n",
    "# add channels\n",
    "neuron_mem.addChannel(NaTChannel(quasi_steady=True),10000.) # 10000 per neuron?\n",
    "neuron_mem.addChannel(NaPChannel(quasi_steady=True),100.) # 100 per neuron\n",
    "neuron_mem.addChannel(KDRChannel(),10000.) # number of channels per neuron\n",
    "neuron_mem.addChannel(KAChannel(quasi_steady=True),10000.) # number of channels per neuron\n",
    "neuron_mem.addChannel(SKChannel(),10000.) # SK\n",
    "neuron_mem.addChannel(CaPChannel(),10000.) # number of channels per neuron\n",
    "neuron_mem.addChannel(CaLChannel(),10000.) # number of channels per neuron\n",
    "neuron_mem.addChannel(CaNChannel(quasi_steady=True),10000.) # number of channels per neuron\n",
    "neuron_mem.addChannel(gNMDAChannel(),10000.)\n",
    "\n",
    "neuron_mem.addChannel(PMCAPump(),10000) # PMCA pump\n",
    "neuron_mem.addChannel(NaCaExchangePump(),1000) # sodium-calcium exchanger\n",
    "neuron_mem.addChannel(NaKATPasePump(),4e5) # 5000 ATPase per neuron\n",
    "neuron_mem.addChannel(NonSpecificChlorideChannel(phi0),100000)\n",
    "neuron_mem.addChannel(AquaPorin(),1e-6) # Add water exchange\n",
    "\n",
    "glial_mem.addChannel(KIRChannel(),50000) # KIR Channel\n",
    "glial_mem.addChannel(NaKATPasePump(),4e5) # 10000000 ATPase per glia\n",
    "glial_mem.addChannel(KDRglialChannel(),17500)\n",
    "glial_mem.addChannel(PMCAPump(),10000)\n",
    "glial_mem.addChannel(NaCaExchangePump(),1000) # sodium-calcium exchanger\n",
    "glial_mem.addChannel(NonSpecificChlorideChannel(phig0),100000)\n",
    "glial_mem.addChannel(AquaPorin(),1e-6) # Add water exchange\n",
    "\n",
    "glial_mem.addChannel(CaPChannel(),10000.) # number of channels per neuron\n",
    "glial_mem.addChannel(CaLChannel(),10000.) # number of channels per neuron\n",
    "#glial_mem.addChannel(CaNChannel(),10000.) # number of channels per neuron\n",
    "\n",
    "# add glutamate exocytosis\n",
    "#glutamate_exo = GlutmateExocytosis(\"G_exo\", 1000)\n",
    "#neuron_mem.addReaction(glutamate_exo)\n",
    "\n"
   ]
  },
  {
   "cell_type": "code",
   "execution_count": 3,
   "metadata": {
    "collapsed": false
   },
   "outputs": [
    {
     "name": "stdout",
     "output_type": "stream",
     "text": [
      "Ion: Ca2+, P_leak: 4.90E-11\n",
      "Ion: Na+, P_leak: 5.49E-09\n",
      "Ion: K+, P_leak: 8.14E-08\n",
      "Ion: Ca2+, P_leak: 6.97E-11\n",
      "Ion: K+, P_leak: 1.56E-06\n",
      "Ion: Na+, P_leak: 2.05E-08\n"
     ]
    }
   ],
   "source": [
    "model.addMembrane(neuron_mem)\n",
    "model.addMembrane(glial_mem)\n",
    "\n",
    "#model.addReaction(glutamate_exo)\n",
    "\n",
    "neuron_mem.addLeakChannels()\n",
    "neuron.balanceWith(ecs)\n",
    "glial_mem.addLeakChannels()\n",
    "glia.balanceWith(ecs)\n",
    "\n",
    "model.assembleSystem()\n",
    "\n",
    "system_state = model.getInternalVars()"
   ]
  },
  {
   "cell_type": "code",
   "execution_count": 4,
   "metadata": {
    "collapsed": false
   },
   "outputs": [],
   "source": [
    "y = model.getInternalVars()\n",
    "#%timeit model.ode_rhs(0,y)"
   ]
  },
  {
   "cell_type": "code",
   "execution_count": 5,
   "metadata": {
    "collapsed": false
   },
   "outputs": [
    {
     "name": "stdout",
     "output_type": "stream",
     "text": [
      "         820 function calls in 0.006 seconds\n",
      "\n",
      "   Ordered by: standard name\n",
      "\n",
      "   ncalls  tottime  percall  cumtime  percall filename:lineno(function)\n",
      "        1    0.000    0.000    0.006    0.006 <string>:1(<module>)\n",
      "       16    0.000    0.000    0.000    0.000 _methods.py:31(_sum)\n",
      "        6    0.000    0.000    0.000    0.000 channel.py:112(get_h)\n",
      "       14    0.000    0.000    0.000    0.000 channel.py:128(get_m)\n",
      "       11    0.000    0.000    0.001    0.000 channel.py:143(permeability)\n",
      "        7    0.000    0.000    0.000    0.000 channel.py:150(<dictcomp>)\n",
      "        4    0.000    0.000    0.000    0.000 channel.py:152(permeability_infty)\n",
      "        1    0.000    0.000    0.000    0.000 channel.py:16(scalar_mult_dict)\n",
      "        4    0.000    0.000    0.000    0.000 channel.py:162(<dictcomp>)\n",
      "        1    0.000    0.000    0.000    0.000 channel.py:17(<dictcomp>)\n",
      "        7    0.000    0.000    0.000    0.000 channel.py:195(mdot)\n",
      "        3    0.000    0.000    0.000    0.000 channel.py:203(hdot)\n",
      "        1    0.000    0.000    0.000    0.000 channel.py:246(alphah)\n",
      "        1    0.000    0.000    0.000    0.000 channel.py:249(betah)\n",
      "        7    0.000    0.000    0.001    0.000 channel.py:286(get_dot_InternalVars)\n",
      "        6    0.000    0.000    0.000    0.000 channel.py:310(permeability)\n",
      "       27    0.000    0.000    0.000    0.000 channel.py:38(water_permeability)\n",
      "        1    0.000    0.000    0.000    0.000 channels.py:102(betam)\n",
      "        1    0.000    0.000    0.000    0.000 channels.py:105(alphah)\n",
      "        1    0.000    0.000    0.000    0.000 channels.py:108(betah)\n",
      "        2    0.000    0.000    0.000    0.000 channels.py:116(current)\n",
      "        2    0.000    0.000    0.000    0.000 channels.py:129(current)\n",
      "        2    0.000    0.000    0.000    0.000 channels.py:177(current)\n",
      "        2    0.000    0.000    0.000    0.000 channels.py:193(permeability)\n",
      "        1    0.000    0.000    0.000    0.000 channels.py:206(permeability)\n",
      "        1    0.000    0.000    0.000    0.000 channels.py:228(get_dot_InternalVars)\n",
      "        2    0.000    0.000    0.000    0.000 channels.py:236(get_Popen)\n",
      "        1    0.000    0.000    0.000    0.000 channels.py:24(alpham)\n",
      "        1    0.000    0.000    0.000    0.000 channels.py:250(permeability)\n",
      "        1    0.000    0.000    0.000    0.000 channels.py:27(betam)\n",
      "        1    0.000    0.000    0.000    0.000 channels.py:276(alpham)\n",
      "        1    0.000    0.000    0.000    0.000 channels.py:281(betam)\n",
      "        2    0.000    0.000    0.000    0.000 channels.py:293(alpham)\n",
      "        2    0.000    0.000    0.000    0.000 channels.py:295(betam)\n",
      "        1    0.000    0.000    0.000    0.000 channels.py:30(alphah)\n",
      "        2    0.000    0.000    0.000    0.000 channels.py:304(alphah)\n",
      "        2    0.000    0.000    0.000    0.000 channels.py:306(betah)\n",
      "        2    0.000    0.000    0.000    0.000 channels.py:308(alpham)\n",
      "        2    0.000    0.000    0.000    0.000 channels.py:310(betam)\n",
      "        1    0.000    0.000    0.000    0.000 channels.py:321(alpham)\n",
      "        1    0.000    0.000    0.000    0.000 channels.py:324(betam)\n",
      "        1    0.000    0.000    0.000    0.000 channels.py:33(betah)\n",
      "        1    0.000    0.000    0.000    0.000 channels.py:334(permeability)\n",
      "        2    0.000    0.000    0.000    0.000 channels.py:359(water_permeability)\n",
      "        2    0.000    0.000    0.000    0.000 channels.py:362(current)\n",
      "        1    0.000    0.000    0.000    0.000 channels.py:42(alpham)\n",
      "        1    0.000    0.000    0.000    0.000 channels.py:50(betam)\n",
      "        1    0.000    0.000    0.000    0.000 channels.py:53(alphah)\n",
      "        1    0.000    0.000    0.000    0.000 channels.py:57(betah)\n",
      "        1    0.000    0.000    0.000    0.000 channels.py:67(alpham)\n",
      "        1    0.000    0.000    0.000    0.000 channels.py:70(betam)\n",
      "        1    0.000    0.000    0.000    0.000 channels.py:79(alpham)\n",
      "        1    0.000    0.000    0.000    0.000 channels.py:82(betam)\n",
      "        1    0.000    0.000    0.000    0.000 channels.py:85(alphah)\n",
      "        1    0.000    0.000    0.000    0.000 channels.py:88(betah)\n",
      "        1    0.000    0.000    0.000    0.000 channels.py:99(alpham)\n",
      "        7    0.001    0.000    0.002    0.000 compartment.py:130(get_dot_InternalVars)\n",
      "       18    0.000    0.000    0.000    0.000 compartment.py:191(phi)\n",
      "        4    0.000    0.000    0.000    0.000 compartment.py:209(tonicity)\n",
      "        3    0.000    0.000    0.000    0.000 compartment.py:75(value)\n",
      "       11    0.000    0.000    0.000    0.000 compartment.py:86(get_val_dict)\n",
      "       11    0.000    0.000    0.000    0.000 compartment.py:93(<dictcomp>)\n",
      "        1    0.000    0.000    0.000    0.000 csdmodel.py:306(volumefractions)\n",
      "        4    0.000    0.000    0.000    0.000 csdmodel1d.py:23(scalar_mult_dict)\n",
      "        4    0.000    0.000    0.000    0.000 csdmodel1d.py:24(<dictcomp>)\n",
      "        1    0.000    0.000    0.006    0.006 csdmodel1d.py:60(ode_rhs)\n",
      "        1    0.000    0.000    0.000    0.000 csdmodel1d.py:75(<dictcomp>)\n",
      "        1    0.000    0.000    0.000    0.000 csdmodel1d.py:76(<dictcomp>)\n",
      "        1    0.000    0.000    0.000    0.000 csdmodel1d.py:80(<dictcomp>)\n",
      "       33    0.000    0.000    0.000    0.000 customdict.py:14(update)\n",
      "       16    0.000    0.000    0.001    0.000 fromnumeric.py:1631(sum)\n",
      "       29    0.000    0.000    0.000    0.000 membrane.py:12(scalar_mult_dict)\n",
      "        2    0.000    0.000    0.002    0.001 membrane.py:169(currents)\n",
      "       29    0.000    0.000    0.000    0.000 membrane.py:17(<dictcomp>)\n",
      "        2    0.001    0.000    0.001    0.000 membrane.py:184(<dictcomp>)\n",
      "       21    0.000    0.000    0.000    0.000 membrane.py:19(dictmult)\n",
      "       21    0.000    0.000    0.000    0.000 membrane.py:20(<dictcomp>)\n",
      "        2    0.000    0.000    0.000    0.000 membrane.py:209(waterFlow)\n",
      "       13    0.000    0.000    0.000    0.000 membrane.py:245(phi)\n",
      "        2    0.000    0.000    0.003    0.001 membrane.py:79(get_dot_InternalVars)\n",
      "        2    0.000    0.000    0.000    0.000 membrane.py:89(<dictcomp>)\n",
      "        8    0.000    0.000    0.000    0.000 numeric.py:141(ones)\n",
      "       16    0.000    0.000    0.000    0.000 {isinstance}\n",
      "      106    0.000    0.000    0.000    0.000 {issubclass}\n",
      "        1    0.000    0.000    0.000    0.000 {method 'disable' of '_lsprof.Profiler' objects}\n",
      "       90    0.000    0.000    0.000    0.000 {method 'iteritems' of 'dict' objects}\n",
      "       16    0.000    0.000    0.000    0.000 {method 'reduce' of 'numpy.ufunc' objects}\n",
      "        7    0.000    0.000    0.000    0.000 {method 'values' of 'dict' objects}\n",
      "        1    0.000    0.000    0.000    0.000 {numpy.core.multiarray.concatenate}\n",
      "        8    0.000    0.000    0.000    0.000 {numpy.core.multiarray.copyto}\n",
      "        8    0.000    0.000    0.000    0.000 {numpy.core.multiarray.empty}\n",
      "       10    0.000    0.000    0.000    0.000 {numpy.core.multiarray.where}\n",
      "      128    0.000    0.000    0.000    0.000 {numpy.core.multiarray.zeros}\n",
      "        2    0.000    0.000    0.000    0.000 {pow}\n",
      "       11    0.000    0.000    0.000    0.000 {zip}\n",
      "\n",
      "\n"
     ]
    }
   ],
   "source": [
    "cProfile.run('model.ode_rhs(0,y)')"
   ]
  },
  {
   "cell_type": "code",
   "execution_count": 6,
   "metadata": {
    "collapsed": false
   },
   "outputs": [
    {
     "name": "stdout",
     "output_type": "stream",
     "text": [
      "         3 function calls in 0.000 seconds\n",
      "\n",
      "   Ordered by: standard name\n",
      "\n",
      "   ncalls  tottime  percall  cumtime  percall filename:lineno(function)\n",
      "        1    0.000    0.000    0.000    0.000 <string>:1(<module>)\n",
      "        1    0.000    0.000    0.000    0.000 membrane.py:245(phi)\n",
      "        1    0.000    0.000    0.000    0.000 {method 'disable' of '_lsprof.Profiler' objects}\n",
      "\n",
      "\n"
     ]
    }
   ],
   "source": [
    "cProfile.run('neuron_mem.phi(y)')"
   ]
  },
  {
   "cell_type": "code",
   "execution_count": 7,
   "metadata": {
    "collapsed": false,
    "scrolled": true
   },
   "outputs": [],
   "source": [
    "graphviz = GraphvizOutput()\n",
    "graphviz.output_file = 'ode_rhs.pdf'\n",
    "graphviz.output_type = 'pdf'\n",
    "with PyCallGraph(output=graphviz):\n",
    "    model.ode_rhs(0,y)"
   ]
  },
  {
   "cell_type": "code",
   "execution_count": 8,
   "metadata": {
    "collapsed": true
   },
   "outputs": [],
   "source": [
    "?GraphvizOutput"
   ]
  },
  {
   "cell_type": "code",
   "execution_count": 9,
   "metadata": {
    "collapsed": false
   },
   "outputs": [],
   "source": [
    "graphviz2 = GraphvizOutput()\n",
    "graphviz2.output_file = 'currents.pdf'\n",
    "graphviz2.output_type = 'pdf'\n",
    "with PyCallGraph(output=graphviz2):\n",
    "    neuron_mem.currents(y)"
   ]
  },
  {
   "cell_type": "code",
   "execution_count": 10,
   "metadata": {
    "collapsed": true
   },
   "outputs": [],
   "source": [
    "val = ecs.value(K)\n",
    "val2 = np.zeros(len(val))"
   ]
  },
  {
   "cell_type": "code",
   "execution_count": 15,
   "metadata": {
    "collapsed": false
   },
   "outputs": [
    {
     "name": "stdout",
     "output_type": "stream",
     "text": [
      "100 loops, best of 3: 4.6 ms per loop\n"
     ]
    }
   ],
   "source": [
    "%timeit model.ode_rhs(0,y)"
   ]
  },
  {
   "cell_type": "code",
   "execution_count": 12,
   "metadata": {
    "collapsed": false
   },
   "outputs": [
    {
     "data": {
      "text/plain": [
       "1.96e-09"
      ]
     },
     "execution_count": 12,
     "metadata": {},
     "output_type": "execute_result"
    }
   ],
   "source": [
    "ecs.diffusivities[K]"
   ]
  },
  {
   "cell_type": "code",
   "execution_count": 13,
   "metadata": {
    "collapsed": false
   },
   "outputs": [
    {
     "name": "stdout",
     "output_type": "stream",
     "text": [
      "10000000 loops, best of 3: 93.9 ns per loop\n"
     ]
    }
   ],
   "source": [
    "%timeit id(K)"
   ]
  },
  {
   "cell_type": "code",
   "execution_count": 14,
   "metadata": {
    "collapsed": false
   },
   "outputs": [
    {
     "data": {
      "text/plain": [
       "139658038929808"
      ]
     },
     "execution_count": 14,
     "metadata": {},
     "output_type": "execute_result"
    }
   ],
   "source": [
    "id(Na)"
   ]
  },
  {
   "cell_type": "code",
   "execution_count": null,
   "metadata": {
    "collapsed": true
   },
   "outputs": [],
   "source": []
  },
  {
   "cell_type": "code",
   "execution_count": null,
   "metadata": {
    "collapsed": true
   },
   "outputs": [],
   "source": []
  },
  {
   "cell_type": "code",
   "execution_count": null,
   "metadata": {
    "collapsed": true
   },
   "outputs": [],
   "source": []
  }
 ],
 "metadata": {
  "kernelspec": {
   "display_name": "Python 2",
   "language": "python",
   "name": "python2"
  },
  "language_info": {
   "codemirror_mode": {
    "name": "ipython",
    "version": 2
   },
   "file_extension": ".py",
   "mimetype": "text/x-python",
   "name": "python",
   "nbconvert_exporter": "python",
   "pygments_lexer": "ipython2",
   "version": "2.7.6"
  }
 },
 "nbformat": 4,
 "nbformat_minor": 0
}
