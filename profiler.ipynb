{
 "cells": [
  {
   "cell_type": "code",
   "execution_count": 1,
   "metadata": {
    "collapsed": false
   },
   "outputs": [
    {
     "name": "stdout",
     "output_type": "stream",
     "text": [
      "Populating the interactive namespace from numpy and matplotlib\n"
     ]
    }
   ],
   "source": [
    "%load_ext line_profiler\n",
    "%pylab inline\n",
    "from pycallgraph import PyCallGraph\n",
    "from pycallgraph.output import GraphvizOutput\n",
    "\n",
    "from __future__ import print_function\n",
    "import cProfile\n",
    "\n",
    "from JSAnimation import IPython_display\n",
    "from matplotlib import animation\n",
    "import time\n",
    "import math\n",
    "\n",
    "from species import *\n",
    "from channels import *\n",
    "from compartment import *\n",
    "from membrane import *\n",
    "from params import *\n",
    "\n",
    "from csdmodel1d import *\n",
    "\n",
    "import numpy as np\n",
    "np.seterr(over ='warn',under='ignore')\n",
    "import scipy as sp\n",
    "from scipy.integrate import ode\n",
    "\n",
    "#from dolfin import *  # FEM library\n",
    "from ProgressBar import *\n",
    "\n",
    "import logging\n",
    "logging.getLogger(\"FFC\").setLevel(logging.ERROR)"
   ]
  },
  {
   "cell_type": "code",
   "execution_count": 2,
   "metadata": {
    "collapsed": false,
    "scrolled": false
   },
   "outputs": [
    {
     "name": "stdout",
     "output_type": "stream",
     "text": [
      "Ion: Ca2+, P_leak: 3.93E-09\n",
      "Ion: Na+, P_leak: 1.10E-10\n",
      "Ion: K+, P_leak: 2.13E-09\n",
      "Ion: Ca2+, P_leak: 3.25E-09\n",
      "Ion: K+, P_leak: 1.11E-08\n",
      "Adding a leak channel does nothing to balance Cl-\n",
      "Ion: Na+, P_leak: 2.43E-10\n"
     ]
    }
   ],
   "source": [
    "model = CSDModelInterval(N=1000,dx=10e-6) # define the model\n",
    "\n",
    "# Define the compartments, and the membranes\n",
    "ecs = Compartment(\"ecs\")\n",
    "neuron = CellCompartment(\"neuron\",density = 2e5) # 2e5 neurons per meter, 4e10 per sq meter\n",
    "glia = CellCompartment(\"glia\",density = 2e5) #2e5 glia per meter\n",
    "\n",
    "neuron_mem = Membrane(\"neuronal\",inside=neuron,outside=ecs,Cm=Cn,phi_m=-70e-3)\n",
    "glial_mem = Membrane(\"glial\",inside=glia,outside=ecs,Cm=Cg,phi_m=-85e-3)\n",
    "\n",
    "# Add the compartments to the model\n",
    "model.addCompartment(ecs,fraction=0.2) # ECS take 20% of the total volume\n",
    "model.addCompartment(neuron,fraction=0.4) # Neurons take up 40% of the total volume\n",
    "model.addCompartment(glia,fraction=0.4) # Neurons take up 40% of the total volume\n",
    "\n",
    "# Add ion species\n",
    "ecs.addSpecies(K,Ke0,name='K_e')\n",
    "ecs.addSpecies(Cl,Cle0,name='Cl_e')\n",
    "ecs.addSpecies(Na,Nae0,name='Na_e')\n",
    "ecs.addSpecies(Ca,Cae0,name='Ca_e')\n",
    "ecs.addSpecies(Glu,0.0,name = \"g_e\")\n",
    "\n",
    "neuron.addSpecies(K,Ki0,0,'K_n')\n",
    "neuron.addSpecies(Na,Nai0,0,'Na_n')\n",
    "neuron.addSpecies(Cl,Cli0,0,'Cl_n')\n",
    "neuron.addSpecies(Ca,Cai0,0,'Ca_n')\n",
    "neuron.addSpecies(Glu,1e-6,name = \"g_n\")\n",
    "\n",
    "\n",
    "glia.addSpecies(K,Ki0,name='K_g')\n",
    "glia.addSpecies(Na,Nai0,name='Na_g')\n",
    "glia.addSpecies(Cl,Cli0,name='Cl_g')\n",
    "glia.addSpecies(Ca,Cai0,0,'Ca_g')\n",
    "\n",
    "# add channels\n",
    "neuron_mem.addChannel(NaTChannel(),10000.) # 100 per neuron?\n",
    "neuron_mem.addChannel(NaPChannel(),2000.) # 2 per neuron\n",
    "neuron_mem.addChannel(KDRChannel(),10000.) # number of channels per neuron\n",
    "neuron_mem.addChannel(CaPChannel(),10000.) # number of channels per neuron\n",
    "neuron_mem.addChannel(CaLChannel(),10000.) # number of channels per neuron\n",
    "\n",
    "neuron_mem.addChannel(KIRChannel(),10000.)\n",
    "#neuron_mem.addChannel(NMDAChannel(),10.)\n",
    "neuron_mem.addChannel(gNMDAChannel(),10000.)\n",
    "\n",
    "neuron_mem.addChannel(PMCAPump(),20000) # PMCA pump\n",
    "neuron_mem.addChannel(NaCaExchangePump(),20000) # sodium-calcium exchanger\n",
    "neuron_mem.addChannel(NaKATPasePump(),50000.) # 5000 ATPase per neuron\n",
    "neuron_mem.addChannel(NonSpecificChlorideChannel(-0.07),40000)\n",
    "\n",
    "glial_mem.addChannel(KIRChannel(),10000) # KIR Channel\n",
    "glial_mem.addChannel(NaKATPasePump(),100000.) # 10000000 ATPase per glia\n",
    "glial_mem.addChannel(PMCAPump(),20000)\n",
    "glial_mem.addChannel(NonSpecificChlorideChannel(-0.085),10000)\n",
    "glial_mem.addChannel(CaPChannel(),10000.) # number of channels per neuron\n",
    "glial_mem.addChannel(CaLChannel(),10000.) # number of channels per neuron\n",
    "\n",
    "\n",
    "model.addMembrane(neuron_mem)\n",
    "model.addMembrane(glial_mem)\n",
    "\n",
    "neuron_mem.addLeakChannels()\n",
    "neuron.balanceWith(ecs)\n",
    "glial_mem.addLeakChannels()\n",
    "glia.balanceWith(ecs)\n",
    "\n",
    "model.assembleSystem()"
   ]
  },
  {
   "cell_type": "code",
   "execution_count": 3,
   "metadata": {
    "collapsed": false
   },
   "outputs": [],
   "source": [
    "y = model.getInternalVars()\n",
    "#%timeit model.ode_rhs(0,y)"
   ]
  },
  {
   "cell_type": "code",
   "execution_count": 4,
   "metadata": {
    "collapsed": false
   },
   "outputs": [
    {
     "name": "stdout",
     "output_type": "stream",
     "text": [
      "         661 function calls in 0.013 seconds\n",
      "\n",
      "   Ordered by: standard name\n",
      "\n",
      "   ncalls  tottime  percall  cumtime  percall filename:lineno(function)\n",
      "        1    0.000    0.000    0.013    0.013 <string>:1(<module>)\n",
      "       12    0.000    0.000    0.000    0.000 _methods.py:31(_sum)\n",
      "       13    0.000    0.000    0.000    0.000 channel.py:105(get_h)\n",
      "       16    0.000    0.000    0.000    0.000 channel.py:121(get_m)\n",
      "        8    0.001    0.000    0.001    0.000 channel.py:136(permeability)\n",
      "        8    0.000    0.000    0.000    0.000 channel.py:141(<dictcomp>)\n",
      "        8    0.000    0.000    0.001    0.000 channel.py:226(mdot)\n",
      "        5    0.000    0.000    0.001    0.000 channel.py:233(hdot)\n",
      "        8    0.000    0.000    0.002    0.000 channel.py:315(get_dot_InternalVars)\n",
      "        6    0.000    0.000    0.000    0.000 channel.py:338(permeability)\n",
      "       23    0.000    0.000    0.000    0.000 channel.py:38(water_permeability)\n",
      "        1    0.000    0.000    0.000    0.000 channels.py:100(alphah)\n",
      "        1    0.000    0.000    0.000    0.000 channels.py:103(betam)\n",
      "        1    0.000    0.000    0.000    0.000 channels.py:106(betah)\n",
      "        1    0.000    0.000    0.000    0.000 channels.py:116(alpham)\n",
      "        1    0.000    0.000    0.000    0.000 channels.py:119(betam)\n",
      "        1    0.000    0.000    0.000    0.000 channels.py:122(alphah)\n",
      "        1    0.000    0.000    0.000    0.000 channels.py:125(betah)\n",
      "        1    0.000    0.000    0.000    0.000 channels.py:136(alpham)\n",
      "        1    0.000    0.000    0.000    0.000 channels.py:139(betam)\n",
      "        2    0.000    0.000    0.000    0.000 channels.py:152(current)\n",
      "        2    0.001    0.000    0.001    0.000 channels.py:166(current)\n",
      "        2    0.000    0.000    0.000    0.000 channels.py:204(alpham)\n",
      "        1    0.000    0.000    0.000    0.000 channels.py:207(betam)\n",
      "        2    0.000    0.000    0.000    0.000 channels.py:210(alphah)\n",
      "        1    0.000    0.000    0.000    0.000 channels.py:213(betah)\n",
      "        1    0.000    0.000    0.000    0.000 channels.py:226(get_dot_InternalVars)\n",
      "        2    0.001    0.000    0.001    0.000 channels.py:23(current)\n",
      "        1    0.000    0.000    0.000    0.000 channels.py:234(get_Popen)\n",
      "        2    0.000    0.000    0.000    0.000 channels.py:279(alpham)\n",
      "        2    0.000    0.000    0.000    0.000 channels.py:281(betam)\n",
      "        2    0.000    0.000    0.000    0.000 channels.py:289(alphah)\n",
      "        2    0.000    0.000    0.000    0.000 channels.py:291(betah)\n",
      "        2    0.000    0.000    0.000    0.000 channels.py:293(alpham)\n",
      "        2    0.000    0.000    0.000    0.000 channels.py:295(betam)\n",
      "        1    0.001    0.001    0.001    0.001 channels.py:36(current)\n",
      "        2    0.000    0.000    0.000    0.000 channels.py:84(current)\n",
      "        2    0.000    0.000    0.000    0.000 channels.py:97(alpham)\n",
      "        3    0.002    0.001    0.002    0.001 compartment.py:126(get_dot_InternalVars)\n",
      "       18    0.000    0.000    0.000    0.000 compartment.py:184(phi)\n",
      "        4    0.000    0.000    0.000    0.000 compartment.py:202(tonicity)\n",
      "        5    0.000    0.000    0.000    0.000 compartment.py:71(value)\n",
      "        7    0.000    0.000    0.000    0.000 compartment.py:82(get_val_dict)\n",
      "        7    0.000    0.000    0.000    0.000 compartment.py:89(<dictcomp>)\n",
      "        1    0.000    0.000    0.000    0.000 csdmodel.py:313(volumefractions)\n",
      "        2    0.000    0.000    0.000    0.000 csdmodel1d.py:23(scalar_mult_dict)\n",
      "        2    0.000    0.000    0.000    0.000 csdmodel1d.py:24(<dictcomp>)\n",
      "        1    0.000    0.000    0.013    0.013 csdmodel1d.py:58(ode_rhs)\n",
      "        1    0.000    0.000    0.000    0.000 csdmodel1d.py:73(<dictcomp>)\n",
      "        1    0.000    0.000    0.000    0.000 csdmodel1d.py:74(<dictcomp>)\n",
      "        1    0.000    0.000    0.000    0.000 csdmodel1d.py:78(<dictcomp>)\n",
      "       27    0.000    0.000    0.000    0.000 customdict.py:14(update)\n",
      "       12    0.000    0.000    0.000    0.000 fromnumeric.py:1631(sum)\n",
      "       23    0.000    0.000    0.000    0.000 membrane.py:12(scalar_mult_dict)\n",
      "        2    0.000    0.000    0.007    0.004 membrane.py:168(currents)\n",
      "       23    0.000    0.000    0.000    0.000 membrane.py:17(<dictcomp>)\n",
      "        2    0.003    0.001    0.003    0.001 membrane.py:182(<dictcomp>)\n",
      "       14    0.000    0.000    0.000    0.000 membrane.py:19(dictmult)\n",
      "       14    0.000    0.000    0.000    0.000 membrane.py:20(<dictcomp>)\n",
      "        2    0.000    0.000    0.000    0.000 membrane.py:214(waterFlow)\n",
      "       15    0.000    0.000    0.000    0.000 membrane.py:248(phi)\n",
      "        2    0.000    0.000    0.007    0.004 membrane.py:79(get_dot_InternalVars)\n",
      "        2    0.000    0.000    0.000    0.000 membrane.py:88(<dictcomp>)\n",
      "        9    0.000    0.000    0.000    0.000 numeric.py:141(ones)\n",
      "       12    0.000    0.000    0.000    0.000 {isinstance}\n",
      "       50    0.000    0.000    0.000    0.000 {issubclass}\n",
      "        1    0.000    0.000    0.000    0.000 {method 'disable' of '_lsprof.Profiler' objects}\n",
      "       68    0.000    0.000    0.000    0.000 {method 'iteritems' of 'dict' objects}\n",
      "       12    0.000    0.000    0.000    0.000 {method 'reduce' of 'numpy.ufunc' objects}\n",
      "        7    0.000    0.000    0.000    0.000 {method 'values' of 'dict' objects}\n",
      "        1    0.000    0.000    0.000    0.000 {numpy.core.multiarray.concatenate}\n",
      "        9    0.000    0.000    0.000    0.000 {numpy.core.multiarray.copyto}\n",
      "        9    0.000    0.000    0.000    0.000 {numpy.core.multiarray.empty}\n",
      "       11    0.000    0.000    0.000    0.000 {numpy.core.multiarray.where}\n",
      "      122    0.000    0.000    0.000    0.000 {numpy.core.multiarray.zeros}\n",
      "        3    0.000    0.000    0.000    0.000 {pow}\n",
      "        8    0.000    0.000    0.000    0.000 {zip}\n",
      "\n",
      "\n"
     ]
    }
   ],
   "source": [
    "cProfile.run('model.ode_rhs(0,y)')"
   ]
  },
  {
   "cell_type": "code",
   "execution_count": 5,
   "metadata": {
    "collapsed": false
   },
   "outputs": [
    {
     "name": "stdout",
     "output_type": "stream",
     "text": [
      "         3 function calls in 0.000 seconds\n",
      "\n",
      "   Ordered by: standard name\n",
      "\n",
      "   ncalls  tottime  percall  cumtime  percall filename:lineno(function)\n",
      "        1    0.000    0.000    0.000    0.000 <string>:1(<module>)\n",
      "        1    0.000    0.000    0.000    0.000 membrane.py:248(phi)\n",
      "        1    0.000    0.000    0.000    0.000 {method 'disable' of '_lsprof.Profiler' objects}\n",
      "\n",
      "\n"
     ]
    }
   ],
   "source": [
    "cProfile.run('neuron_mem.phi(y)')"
   ]
  },
  {
   "cell_type": "code",
   "execution_count": 6,
   "metadata": {
    "collapsed": false,
    "scrolled": true
   },
   "outputs": [],
   "source": [
    "graphviz = GraphvizOutput()\n",
    "graphviz.output_file = 'ode_rhs.pdf'\n",
    "graphviz.output_type = 'pdf'\n",
    "with PyCallGraph(output=graphviz):\n",
    "    model.ode_rhs(0,y)"
   ]
  },
  {
   "cell_type": "code",
   "execution_count": 7,
   "metadata": {
    "collapsed": true
   },
   "outputs": [],
   "source": [
    "?GraphvizOutput"
   ]
  },
  {
   "cell_type": "code",
   "execution_count": 8,
   "metadata": {
    "collapsed": false
   },
   "outputs": [],
   "source": [
    "graphviz2 = GraphvizOutput()\n",
    "graphviz2.output_file = 'currents.pdf'\n",
    "graphviz2.output_type = 'pdf'\n",
    "with PyCallGraph(output=graphviz2):\n",
    "    neuron_mem.currents(y)"
   ]
  },
  {
   "cell_type": "code",
   "execution_count": 9,
   "metadata": {
    "collapsed": true
   },
   "outputs": [],
   "source": [
    "val = ecs.value(K)\n",
    "val2 = np.zeros(len(val))"
   ]
  },
  {
   "cell_type": "code",
   "execution_count": 10,
   "metadata": {
    "collapsed": false
   },
   "outputs": [
    {
     "name": "stdout",
     "output_type": "stream",
     "text": [
      "100 loops, best of 3: 10.1 ms per loop\n"
     ]
    }
   ],
   "source": [
    "%timeit model.ode_rhs(0,y)"
   ]
  },
  {
   "cell_type": "code",
   "execution_count": 11,
   "metadata": {
    "collapsed": false
   },
   "outputs": [
    {
     "data": {
      "text/plain": [
       "1.96e-09"
      ]
     },
     "execution_count": 11,
     "metadata": {},
     "output_type": "execute_result"
    }
   ],
   "source": [
    "ecs.diffusivities[K]"
   ]
  },
  {
   "cell_type": "code",
   "execution_count": null,
   "metadata": {
    "collapsed": true
   },
   "outputs": [],
   "source": []
  },
  {
   "cell_type": "code",
   "execution_count": null,
   "metadata": {
    "collapsed": true
   },
   "outputs": [],
   "source": []
  }
 ],
 "metadata": {
  "kernelspec": {
   "display_name": "Python 2",
   "language": "python",
   "name": "python2"
  },
  "language_info": {
   "codemirror_mode": {
    "name": "ipython",
    "version": 2
   },
   "file_extension": ".py",
   "mimetype": "text/x-python",
   "name": "python",
   "nbconvert_exporter": "python",
   "pygments_lexer": "ipython2",
   "version": "2.7.6"
  }
 },
 "nbformat": 4,
 "nbformat_minor": 0
}
