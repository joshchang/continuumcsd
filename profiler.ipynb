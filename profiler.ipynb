{
 "cells": [
  {
   "cell_type": "code",
   "execution_count": 1,
   "metadata": {
    "collapsed": false
   },
   "outputs": [
    {
     "name": "stdout",
     "output_type": "stream",
     "text": [
      "Populating the interactive namespace from numpy and matplotlib\n"
     ]
    }
   ],
   "source": [
    "%load_ext line_profiler\n",
    "%pylab inline\n",
    "from pycallgraph import PyCallGraph\n",
    "from pycallgraph.output import GraphvizOutput\n",
    "\n",
    "from __future__ import print_function\n",
    "import cProfile\n",
    "\n",
    "from JSAnimation import IPython_display\n",
    "from matplotlib import animation\n",
    "import time\n",
    "import math\n",
    "\n",
    "from species import *\n",
    "from channels import *\n",
    "from compartment import *\n",
    "from membrane import *\n",
    "from params import *\n",
    "\n",
    "from csdmodel1d import *\n",
    "\n",
    "import numpy as np\n",
    "np.seterr(over ='warn',under='ignore')\n",
    "import scipy as sp\n",
    "from scipy.integrate import ode\n",
    "\n",
    "#from dolfin import *  # FEM library\n",
    "from ProgressBar import *\n",
    "\n",
    "import logging\n",
    "logging.getLogger(\"FFC\").setLevel(logging.ERROR)"
   ]
  },
  {
   "cell_type": "code",
   "execution_count": 2,
   "metadata": {
    "collapsed": false,
    "scrolled": true
   },
   "outputs": [
    {
     "name": "stdout",
     "output_type": "stream",
     "text": [
      "Ion: Cl-, g_leak: 0.00E+00\n",
      "Ion: Ca2+, g_leak: 1.96E-05\n",
      "Adding a leak channel does nothing to balance Na+\n",
      "Ion: K+, g_leak: 2.66E-06\n",
      "Adding a leak channel does nothing to balance Cl-\n",
      "Ion: Ca2+, g_leak: 1.85E-05\n",
      "Ion: K+, g_leak: 5.92E-06\n",
      "Ion: Na+, g_leak: 6.98E-07\n"
     ]
    }
   ],
   "source": [
    "model = CSDModelInterval(N=20,dx=4e-6) # define the model\n",
    "\n",
    "# Define the compartments, and the membranes\n",
    "ecs = Compartment(\"ecs\")\n",
    "neuron = CellCompartment(\"neuron\",density = 2e5) # 2e5 neurons per meter, 4e10 per sq meter\n",
    "glia = CellCompartment(\"glia\",density = 2e5) #2e5 glia per meter\n",
    "#neuron = CellCompartment(\"neuron\",density = 4e10)\n",
    "#glia = CellCompartment(\"glia\",density = 4e10)\n",
    "\n",
    "neuron_mem = Membrane(\"neuronal\",inside=neuron,outside=ecs,Cm=Cn,phi_m=-70e-3)\n",
    "glial_mem = Membrane(\"glial\",inside=glia,outside=ecs,Cm=Cg,phi_m=-85e-3)\n",
    "\n",
    "# Add the compartments to the model\n",
    "model.addCompartment(ecs,fraction=0.2) # ECS take 20% of the total volume\n",
    "model.addCompartment(neuron,fraction=0.4) # Neurons take up 40% of the total volume\n",
    "model.addCompartment(glia,fraction=0.4) # Neurons take up 40% of the total volume\n",
    "\n",
    "# Add ion species\n",
    "ecs.addSpecies(K,Ke0,name='K_e')\n",
    "ecs.addSpecies(Cl,Cle0,name='Cl_e')\n",
    "ecs.addSpecies(Na,Nae0,name='Na_e')\n",
    "ecs.addSpecies(Ca,Cae0,name='Ca_e')\n",
    "\n",
    "neuron.addSpecies(K,Ki0,0,'K_n')\n",
    "neuron.addSpecies(Na,Nai0,0,'Na_n')\n",
    "neuron.addSpecies(Cl,Cli0,0,'Cl_n')\n",
    "neuron.addSpecies(Ca,Cai0,0,'Ca_n')\n",
    "\n",
    "glia.addSpecies(K,Ki0,name='K_g')\n",
    "glia.addSpecies(Na,Nai0,name='Na_g')\n",
    "glia.addSpecies(Cl,Cli0,name='Cl_g')\n",
    "glia.addSpecies(Ca,Cai0,0,'Ca_g')\n",
    "\n",
    "# add channels\n",
    "neuron_mem.addChannel(NaTChannel(),100.) # 100 per neruon?\n",
    "neuron_mem.addChannel(KDRChannel(),100.) # number of channels per neuron\n",
    "neuron_mem.addChannel(KIRChannel(),100.)\n",
    "neuron_mem.addChannel(NMDAChannel(),300.)\n",
    "neuron_mem.addChannel(PMCAPump(),500) # PMCA pump\n",
    "neuron_mem.addChannel(NaCaExchangePump(),500) # sodium-calcium exchanger\n",
    "neuron_mem.addChannel(NaKATPasePump(),1000.) # 5000 ATPase per neuron\n",
    "neuron_mem.addChannel(NonSpecificChlorideChannel(-0.07),4000)\n",
    "\n",
    "#glial_mem.addChannel(KIRChannel(),100) # KIR Channel\n",
    "glial_mem.addChannel(NaKATPasePump(),1000.) # 5000 ATPase per neuron\n",
    "glial_mem.addChannel(PMCAPump(),500)\n",
    "glial_mem.addChannel(NonSpecificChlorideChannel(-0.085),4000)\n",
    "\n",
    "model.addMembrane(neuron_mem)\n",
    "model.addMembrane(glial_mem)\n",
    "\n",
    "neuron_mem.addLeakChannels()\n",
    "neuron.balanceWith(ecs)\n",
    "glial_mem.addLeakChannels()\n",
    "glia.balanceWith(ecs)\n",
    "\n",
    "model.assembleSystem()"
   ]
  },
  {
   "cell_type": "code",
   "execution_count": 3,
   "metadata": {
    "collapsed": false
   },
   "outputs": [],
   "source": [
    "y = model.getInternalVars()\n",
    "#%timeit model.ode_rhs(0,y)"
   ]
  },
  {
   "cell_type": "code",
   "execution_count": 4,
   "metadata": {
    "collapsed": false
   },
   "outputs": [
    {
     "name": "stdout",
     "output_type": "stream",
     "text": [
      "         673 function calls in 0.006 seconds\n",
      "\n",
      "   Ordered by: standard name\n",
      "\n",
      "   ncalls  tottime  percall  cumtime  percall filename:lineno(function)\n",
      "        1    0.000    0.000    0.006    0.006 <string>:1(<module>)\n",
      "       12    0.000    0.000    0.000    0.000 _methods.py:31(_sum)\n",
      "       21    0.000    0.000    0.000    0.000 _weakrefset.py:70(__contains__)\n",
      "       21    0.000    0.000    0.000    0.000 abc.py:128(__instancecheck__)\n",
      "        5    0.000    0.000    0.000    0.000 channel.py:109(get_h)\n",
      "        6    0.000    0.000    0.000    0.000 channel.py:125(get_m)\n",
      "        3    0.000    0.000    0.000    0.000 channel.py:138(conductance)\n",
      "        3    0.000    0.000    0.000    0.000 channel.py:145(<dictcomp>)\n",
      "        3    0.000    0.000    0.000    0.000 channel.py:225(mdot)\n",
      "        2    0.000    0.000    0.000    0.000 channel.py:232(hdot)\n",
      "        3    0.000    0.000    0.000    0.000 channel.py:309(get_dot_InternalVars)\n",
      "        6    0.000    0.000    0.000    0.000 channel.py:344(current)\n",
      "       17    0.000    0.000    0.000    0.000 channel.py:36(water_permeability)\n",
      "        1    0.000    0.000    0.000    0.000 channels.py:116(alpham)\n",
      "        1    0.000    0.000    0.000    0.000 channels.py:119(betam)\n",
      "        1    0.000    0.000    0.000    0.000 channels.py:122(alphah)\n",
      "        1    0.000    0.000    0.000    0.000 channels.py:125(betah)\n",
      "        1    0.000    0.000    0.000    0.000 channels.py:135(alpham)\n",
      "        1    0.000    0.000    0.000    0.000 channels.py:138(betam)\n",
      "        2    0.000    0.000    0.000    0.000 channels.py:151(current)\n",
      "        1    0.000    0.000    0.000    0.000 channels.py:165(current)\n",
      "        2    0.000    0.000    0.000    0.000 channels.py:205(alpham)\n",
      "        1    0.000    0.000    0.000    0.000 channels.py:208(betam)\n",
      "        2    0.000    0.000    0.000    0.000 channels.py:211(alphah)\n",
      "        1    0.000    0.000    0.000    0.000 channels.py:214(betah)\n",
      "        2    0.000    0.000    0.000    0.000 channels.py:27(current)\n",
      "        2    0.000    0.000    0.000    0.000 channels.py:31(<dictcomp>)\n",
      "        1    0.000    0.000    0.000    0.000 channels.py:39(current)\n",
      "        1    0.000    0.000    0.000    0.000 channels.py:75(<dictcomp>)\n",
      "        2    0.000    0.000    0.000    0.000 channels.py:82(current)\n",
      "        5    0.000    0.000    0.000    0.000 collections.py:438(__init__)\n",
      "        4    0.000    0.000    0.000    0.000 collections.py:452(__missing__)\n",
      "       26    0.000    0.000    0.000    0.000 collections.py:501(update)\n",
      "       10    0.000    0.000    0.000    0.000 compartment.py:152(phi)\n",
      "        4    0.000    0.000    0.000    0.000 compartment.py:170(tonicity)\n",
      "       72    0.000    0.000    0.000    0.000 compartment.py:67(value)\n",
      "       34    0.000    0.000    0.000    0.000 compartment.py:73(get_val_dict)\n",
      "       34    0.000    0.000    0.000    0.000 compartment.py:76(<dictcomp>)\n",
      "        3    0.001    0.000    0.001    0.000 compartment.py:98(get_dot_InternalVars)\n",
      "        1    0.000    0.000    0.000    0.000 csdmodel.py:309(volumefractions)\n",
      "        2    0.000    0.000    0.000    0.000 csdmodel1d.py:23(scalar_mult_dict)\n",
      "        2    0.000    0.000    0.000    0.000 csdmodel1d.py:24(<dictcomp>)\n",
      "        1    0.000    0.000    0.006    0.006 csdmodel1d.py:58(ode_rhs)\n",
      "        1    0.000    0.000    0.000    0.000 csdmodel1d.py:73(<dictcomp>)\n",
      "        1    0.000    0.000    0.000    0.000 csdmodel1d.py:74(<dictcomp>)\n",
      "       12    0.000    0.000    0.001    0.000 fromnumeric.py:1631(sum)\n",
      "       17    0.000    0.000    0.000    0.000 membrane.py:10(scalar_mult_dict)\n",
      "       17    0.000    0.000    0.000    0.000 membrane.py:11(<dictcomp>)\n",
      "        3    0.000    0.000    0.000    0.000 membrane.py:13(dictmult)\n",
      "        3    0.000    0.000    0.000    0.000 membrane.py:14(<dictcomp>)\n",
      "        2    0.000    0.000    0.003    0.001 membrane.py:147(currents)\n",
      "        2    0.001    0.000    0.001    0.000 membrane.py:159(<dictcomp>)\n",
      "        2    0.000    0.000    0.001    0.000 membrane.py:201(waterFlow)\n",
      "       22    0.000    0.000    0.000    0.000 membrane.py:234(phi)\n",
      "        2    0.000    0.000    0.003    0.002 membrane.py:72(get_dot_InternalVars)\n",
      "        2    0.000    0.000    0.000    0.000 membrane.py:81(<dictcomp>)\n",
      "        1    0.000    0.000    0.000    0.000 numeric.py:141(ones)\n",
      "        5    0.000    0.000    0.000    0.000 {function update at 0x7f50d95ba488}\n",
      "       21    0.000    0.000    0.000    0.000 {getattr}\n",
      "       33    0.000    0.000    0.000    0.000 {isinstance}\n",
      "       17    0.000    0.000    0.000    0.000 {issubclass}\n",
      "       17    0.000    0.000    0.000    0.000 {method 'append' of 'list' objects}\n",
      "        1    0.000    0.000    0.000    0.000 {method 'disable' of '_lsprof.Profiler' objects}\n",
      "       23    0.000    0.000    0.000    0.000 {method 'get' of 'dict' objects}\n",
      "       24    0.000    0.000    0.000    0.000 {method 'items' of 'dict' objects}\n",
      "       16    0.000    0.000    0.000    0.000 {method 'iteritems' of 'dict' objects}\n",
      "       12    0.000    0.000    0.000    0.000 {method 'reduce' of 'numpy.ufunc' objects}\n",
      "        3    0.000    0.000    0.000    0.000 {method 'values' of 'dict' objects}\n",
      "        1    0.000    0.000    0.000    0.000 {numpy.core.multiarray.copyto}\n",
      "        1    0.000    0.000    0.000    0.000 {numpy.core.multiarray.empty}\n",
      "        9    0.000    0.000    0.000    0.000 {numpy.core.multiarray.where}\n",
      "       73    0.000    0.000    0.000    0.000 {numpy.core.multiarray.zeros}\n",
      "        6    0.000    0.000    0.000    0.000 {zip}\n",
      "\n",
      "\n"
     ]
    }
   ],
   "source": [
    "cProfile.run('model.ode_rhs(0,y)')"
   ]
  },
  {
   "cell_type": "code",
   "execution_count": 9,
   "metadata": {
    "collapsed": false
   },
   "outputs": [
    {
     "name": "stdout",
     "output_type": "stream",
     "text": [
      "         3 function calls in 0.000 seconds\n",
      "\n",
      "   Ordered by: standard name\n",
      "\n",
      "   ncalls  tottime  percall  cumtime  percall filename:lineno(function)\n",
      "        1    0.000    0.000    0.000    0.000 <string>:1(<module>)\n",
      "        1    0.000    0.000    0.000    0.000 membrane.py:248(phi)\n",
      "        1    0.000    0.000    0.000    0.000 {method 'disable' of '_lsprof.Profiler' objects}\n",
      "\n",
      "\n"
     ]
    }
   ],
   "source": [
    "cProfile.run('neuron_mem.phi(y)')"
   ]
  },
  {
   "cell_type": "code",
   "execution_count": 10,
   "metadata": {
    "collapsed": true
   },
   "outputs": [],
   "source": [
    "graphviz = GraphvizOutput()\n",
    "graphviz.output_file = 'ode_rhs.pdf'\n",
    "graphviz.output_type = 'pdf'\n",
    "with PyCallGraph(output=graphviz):\n",
    "    model.ode_rhs(0,y)"
   ]
  },
  {
   "cell_type": "code",
   "execution_count": 11,
   "metadata": {
    "collapsed": true
   },
   "outputs": [],
   "source": [
    "?GraphvizOutput"
   ]
  },
  {
   "cell_type": "code",
   "execution_count": 12,
   "metadata": {
    "collapsed": true
   },
   "outputs": [],
   "source": [
    "graphviz2 = GraphvizOutput()\n",
    "graphviz2.output_file = 'currents.pdf'\n",
    "graphviz2.output_type = 'pdf'\n",
    "with PyCallGraph(output=graphviz2):\n",
    "    neuron_mem.currents(y)"
   ]
  },
  {
   "cell_type": "code",
   "execution_count": 13,
   "metadata": {
    "collapsed": true
   },
   "outputs": [],
   "source": [
    "val = ecs.value(K)\n",
    "val2 = np.zeros(len(val))"
   ]
  },
  {
   "cell_type": "code",
   "execution_count": 7,
   "metadata": {
    "collapsed": false
   },
   "outputs": [
    {
     "name": "stdout",
     "output_type": "stream",
     "text": [
      "100 loops, best of 3: 2.85 ms per loop\n"
     ]
    }
   ],
   "source": [
    "%timeit model.ode_rhs(0,y)"
   ]
  },
  {
   "cell_type": "code",
   "execution_count": null,
   "metadata": {
    "collapsed": true
   },
   "outputs": [],
   "source": []
  }
 ],
 "metadata": {
  "kernelspec": {
   "display_name": "Python 2",
   "language": "python",
   "name": "python2"
  },
  "language_info": {
   "codemirror_mode": {
    "name": "ipython",
    "version": 2
   },
   "file_extension": ".py",
   "mimetype": "text/x-python",
   "name": "python",
   "nbconvert_exporter": "python",
   "pygments_lexer": "ipython2",
   "version": "2.7.6"
  }
 },
 "nbformat": 4,
 "nbformat_minor": 0
}
